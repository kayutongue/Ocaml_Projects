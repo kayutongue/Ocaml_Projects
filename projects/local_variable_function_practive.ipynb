{
 "cells": [
  {
   "cell_type": "code",
   "execution_count": 12,
   "metadata": {
    "scrolled": true
   },
   "outputs": [
    {
     "name": "stdout",
     "output_type": "stream",
     "text": [
      "type person_t = {\n",
      "  name : string;\n",
      "  shincho : float;\n",
      "  taiju : float;\n",
      "  tsuki : int;\n",
      "  hi : int;\n",
      "  ketsueki : string;\n",
      "}\n",
      "val person1 : person_t =\n",
      "  {name = \"浅井\"; shincho = 1.72; taiju = 58.5; tsuki = 9; hi = 17;\n",
      "   ketsueki = \"A\"}\n",
      "val person2 : person_t =\n",
      "  {name = \"宮原\"; shincho = 1.63; taiju = 55.; tsuki = 6; hi = 30;\n",
      "   ketsueki = \"B\"}\n",
      "val person3 : person_t =\n",
      "  {name = \"中村\"; shincho = 1.68; taiju = 63.; tsuki = 6; hi = 6;\n",
      "   ketsueki = \"O\"}\n",
      "val person4 : person_t =\n",
      "  {name = \"粥川\"; shincho = 1.68; taiju = 77.8; tsuki = 11; hi = 13;\n",
      "   ketsueki = \"B\"}\n",
      "val person5 : person_t =\n",
      "  {name = \"西尾\"; shincho = 1.66; taiju = 75.2; tsuki = 9; hi = 26;\n",
      "   ketsueki = \"O\"}\n",
      "val person6 : person_t =\n",
      "  {name = \"坂庭\"; shincho = 1.73; taiju = 74.3; tsuki = 6; hi = 12;\n",
      "   ketsueki = \"AB\"}\n",
      "val person7 : person_t =\n",
      "  {name = \"植松\"; shincho = 1.8; taiju = 67.5; tsuki = 8; hi = 6;\n",
      "   ketsueki = \"AB\"}\n",
      "val person8 : person_t =\n",
      "  {name = \"永井\"; shincho = 1.67; taiju = 57.8; tsuki = 1; hi = 23;\n",
      "   ketsueki = \"B\"}\n"
     ]
    }
   ],
   "source": [
    "#use \"data_definition/person_t.ml\"\n",
    "\n",
    "(* person_t型はパーソナルデータを格納するレコードです *)\n",
    "\n",
    "(* person_t list は\n",
    "  - []               空リスト、あるいは\n",
    "  - first :: rest    最初の要素がfirst, 残りのリストがrest（firstはperson_t型, restは自己参照しているケース）\n",
    "という形のデータ型 *)"
   ]
  },
  {
   "cell_type": "code",
   "execution_count": 13,
   "metadata": {
    "scrolled": true
   },
   "outputs": [
    {
     "data": {
      "text/plain": [
       "val lst1 : 'a list = []\n"
      ]
     },
     "execution_count": 13,
     "metadata": {},
     "output_type": "execute_result"
    },
    {
     "data": {
      "text/plain": [
       "val lst2 : person_t list =\n",
       "  [{name = \"浅井\"; shincho = 1.72; taiju = 58.5; tsuki = 9; hi = 17;\n",
       "    ketsueki = \"A\"}]\n"
      ]
     },
     "execution_count": 13,
     "metadata": {},
     "output_type": "execute_result"
    },
    {
     "data": {
      "text/plain": [
       "val lst3 : person_t list =\n",
       "  [{name = \"中村\"; shincho = 1.68; taiju = 63.; tsuki = 6; hi = 6;\n",
       "    ketsueki = \"O\"};\n",
       "   {name = \"浅井\"; shincho = 1.72; taiju = 58.5; tsuki = 9; hi = 17;\n",
       "    ketsueki = \"A\"};\n",
       "   {name = \"植松\"; shincho = 1.8; taiju = 67.5; tsuki = 8; hi = 6;\n",
       "    ketsueki = \"AB\"};\n",
       "   {name = \"坂庭\"; shincho = 1.73; taiju = 74.3; tsuki = 6; hi = 12;\n",
       "    ketsueki = \"AB\"}]\n"
      ]
     },
     "execution_count": 13,
     "metadata": {},
     "output_type": "execute_result"
    },
    {
     "data": {
      "text/plain": [
       "val lst4 : person_t list =\n",
       "  [{name = \"浅井\"; shincho = 1.72; taiju = 58.5; tsuki = 9; hi = 17;\n",
       "    ketsueki = \"A\"};\n",
       "   {name = \"中村\"; shincho = 1.68; taiju = 63.; tsuki = 6; hi = 6;\n",
       "    ketsueki = \"O\"};\n",
       "   {name = \"宮原\"; shincho = 1.63; taiju = 55.; tsuki = 6; hi = 30;\n",
       "    ketsueki = \"B\"};\n",
       "   {name = \"粥川\"; shincho = 1.68; taiju = 77.8; tsuki = 11; hi = 13;\n",
       "    ketsueki = \"B\"};\n",
       "   {name = \"植松\"; shincho = 1.8; taiju = 67.5; tsuki = 8; hi = 6;\n",
       "    ketsueki = \"AB\"};\n",
       "   {name = \"西尾\"; shincho = 1.66; taiju = 75.2; tsuki = 9; hi = 26;\n",
       "    ketsueki = \"O\"};\n",
       "   {name = \"坂庭\"; shincho = 1.73; taiju = 74.3; tsuki = 6; hi = 12;\n",
       "    ketsueki = \"AB\"};\n",
       "   {name = \"永井\"; shincho = 1.67; taiju = 57.8; tsuki = 1; hi = 23;\n",
       "    ketsueki = \"B\"}]\n"
      ]
     },
     "execution_count": 13,
     "metadata": {},
     "output_type": "execute_result"
    }
   ],
   "source": [
    "let lst1 = []\n",
    "let lst2 = [person1]\n",
    "let lst3 = [person3; person1; person7; person6]\n",
    "let lst4 = [person1; person3; person2; person4; person7; person5; person6; person8]"
   ]
  },
  {
   "cell_type": "code",
   "execution_count": 16,
   "metadata": {},
   "outputs": [
    {
     "data": {
      "text/plain": [
       "val ketsueki_shukei : person_t list -> int * int * int * int = <fun>\n"
      ]
     },
     "execution_count": 16,
     "metadata": {},
     "output_type": "execute_result"
    },
    {
     "data": {
      "text/plain": [
       "val test1 : bool = true\n"
      ]
     },
     "execution_count": 16,
     "metadata": {},
     "output_type": "execute_result"
    },
    {
     "data": {
      "text/plain": [
       "val test2 : bool = true\n"
      ]
     },
     "execution_count": 16,
     "metadata": {},
     "output_type": "execute_result"
    },
    {
     "data": {
      "text/plain": [
       "val test3 : bool = true\n"
      ]
     },
     "execution_count": 16,
     "metadata": {},
     "output_type": "execute_result"
    },
    {
     "data": {
      "text/plain": [
       "val test4 : bool = true\n"
      ]
     },
     "execution_count": 16,
     "metadata": {},
     "output_type": "execute_result"
    }
   ],
   "source": [
    "(* 目的: person_t list型のリストを受け取り、各血液型の人が何人いるかを返す *)\n",
    "(* ketsueki_shukei : person_t list -> int * int * int * int *)\n",
    "let rec ketsueki_shukei lst = match lst with\n",
    "   [] -> (0, 0, 0, 0)\n",
    "  | {name = n; shincho = s; taiju = t; tsuki = m; hi = d; ketsueki = k} :: rest\n",
    "      -> let (a, b, o, c) = (ketsueki_shukei rest) in\n",
    "            if k = \"A\" then (a + 1, b, o, c)\n",
    "            else if k = \"B\" then (a, b + 1, o, c)\n",
    "            else if k = \"O\" then (a, b, o + 1, c)\n",
    "            else (a, b, o, c + 1)\n",
    "\n",
    "(* テスト *)\n",
    "let test1 = ketsueki_shukei lst1 = (0, 0, 0, 0)   (* 組＝(A, B, O, AB) *)\n",
    "let test2 = ketsueki_shukei lst2 = (1, 0, 0, 0)\n",
    "let test3 = ketsueki_shukei lst3 = (1, 0, 1, 2)\n",
    "let test4 = ketsueki_shukei lst4 = (1, 3, 2, 2)"
   ]
  },
  {
   "cell_type": "code",
   "execution_count": null,
   "metadata": {},
   "outputs": [],
   "source": [
    "(* 目的: 整数のリストを受け取り、最小値を返す *)"
   ]
  },
  {
   "cell_type": "code",
   "execution_count": 19,
   "metadata": {},
   "outputs": [
    {
     "data": {
      "text/plain": [
       "val saita_ketsueki : person_t list -> string = <fun>\n"
      ]
     },
     "execution_count": 19,
     "metadata": {},
     "output_type": "execute_result"
    },
    {
     "data": {
      "text/plain": [
       "val test5 : bool = true\n"
      ]
     },
     "execution_count": 19,
     "metadata": {},
     "output_type": "execute_result"
    },
    {
     "data": {
      "text/plain": [
       "val test6 : bool = true\n"
      ]
     },
     "execution_count": 19,
     "metadata": {},
     "output_type": "execute_result"
    },
    {
     "data": {
      "text/plain": [
       "val test7 : bool = true\n"
      ]
     },
     "execution_count": 19,
     "metadata": {},
     "output_type": "execute_result"
    },
    {
     "data": {
      "text/plain": [
       "val test8 : bool = true\n"
      ]
     },
     "execution_count": 19,
     "metadata": {},
     "output_type": "execute_result"
    }
   ],
   "source": [
    "(* 目的: person_t型のリストを受け取り、４つの血液型のうち最も人数の多かった血液型を返す *)\n",
    "(* saita_ketsueki : person_t list -> string *)\n",
    "let saita_ketsueki lst = match lst with\n",
    "   [] -> \"\"\n",
    "  | first :: rest -> let (a, b, o, c) = (ketsueki_shukei lst) in\n",
    "                     let saidai = max (max a b) (max o c) in\n",
    "                       if saidai = a then \"A\"\n",
    "                       else if saidai = b then \"B\"\n",
    "                       else if saidai = o then \"O\"\n",
    "                       else \"AB\"\n",
    "\n",
    "\n",
    "(* テスト *)\n",
    "let test5 = saita_ketsueki lst1 = \"\"\n",
    "let test6 = saita_ketsueki lst2 = \"A\"\n",
    "let test7 = saita_ketsueki lst3 = \"AB\"\n",
    "let test8 = saita_ketsueki lst4 = \"B\""
   ]
  }
 ],
 "metadata": {
  "kernelspec": {
   "display_name": "OCaml 4.05.0",
   "language": "OCaml",
   "name": "ocaml-jupyter"
  },
  "language_info": {
   "codemirror_mode": "text/x-ocaml",
   "file_extension": ".ml",
   "mimetype": "text/x-ocaml",
   "name": "OCaml",
   "nbconverter_exporter": null,
   "pygments_lexer": "OCaml",
   "version": "4.05.0"
  }
 },
 "nbformat": 4,
 "nbformat_minor": 2
}
