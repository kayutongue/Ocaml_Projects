{
 "cells": [
  {
   "cell_type": "code",
   "execution_count": 1,
   "metadata": {},
   "outputs": [
    {
     "data": {
      "text/plain": [
       "type ekimei_t = {\n",
       "  kanji : string;\n",
       "  kana : string;\n",
       "  romaji : string;\n",
       "  shozoku : string;\n",
       "}\n"
      ]
     },
     "execution_count": 1,
     "metadata": {},
     "output_type": "execute_result"
    },
    {
     "data": {
      "text/plain": [
       "type ekikan_t = {\n",
       "  kiten : string;\n",
       "  shuten : string;\n",
       "  keiyu : string;\n",
       "  kyori : float;\n",
       "  jikan : int;\n",
       "}\n"
      ]
     },
     "execution_count": 1,
     "metadata": {},
     "output_type": "execute_result"
    }
   ],
   "source": [
    "(* 駅の情報を格納するデータ型 *)\n",
    "type ekimei_t = {\n",
    "  kanji : string;   (* 漢字駅名 *)\n",
    "  kana : string;    (* かな駅名 *)\n",
    "  romaji : string;  (* ローマ字駅名 *)\n",
    "  shozoku : string; (* 所属路線 *)\n",
    "}\n",
    "\n",
    "(* 駅と駅の接続情報を格納するレコード型 *)\n",
    "type ekikan_t = {\n",
    "  kiten : string;  (* 起点の駅名 *)\n",
    "  shuten : string; (* 終点の駅名 *)\n",
    "  keiyu : string;  (* 経由する路線名 *)\n",
    "  kyori : float;   (* ２駅間の距離(km) *)\n",
    "  jikan : int;     (* 所要時間(m) *)\n",
    "}"
   ]
  },
  {
   "cell_type": "code",
   "execution_count": 3,
   "metadata": {},
   "outputs": [
    {
     "data": {
      "text/plain": [
       "val hyoji : ekimei_t -> string = <fun>\n"
      ]
     },
     "execution_count": 3,
     "metadata": {},
     "output_type": "execute_result"
    },
    {
     "data": {
      "text/plain": [
       "val test1 : bool = true\n"
      ]
     },
     "execution_count": 3,
     "metadata": {},
     "output_type": "execute_result"
    },
    {
     "data": {
      "text/plain": [
       "val test2 : bool = true\n"
      ]
     },
     "execution_count": 3,
     "metadata": {},
     "output_type": "execute_result"
    },
    {
     "data": {
      "text/plain": [
       "val test3 : bool = true\n"
      ]
     },
     "execution_count": 3,
     "metadata": {},
     "output_type": "execute_result"
    }
   ],
   "source": [
    "(* 目的: ekimei_tの型のデータを受け取ったら、「路線名, 駅名（かな）」に整形して文字列を返す関数 *)\n",
    "(* hyoji : ekimei_t -> string *)\n",
    "let hyoji ekimei = match ekimei with\n",
    "  {kanji = k; kana = c; romaji = r; shozoku = s} -> s ^ \", \" ^ k ^ \"（\" ^ c ^ \"）\"\n",
    "  \n",
    "(* テスト *)\n",
    "let test1 = hyoji {kanji = \"茗荷谷\"; kana = \"みょうがだに\"; romaji = \"myogadani\"; shozoku = \"丸ノ内線\"} = \"丸ノ内線, 茗荷谷（みょうがだに）\"\n",
    "let test2 = hyoji {kanji = \"荻窪\"; kana = \"おぎくぼ\"; romaji = \"ogikubo\"; shozoku = \"中央線/丸ノ内線\"} = \"中央線/丸ノ内線, 荻窪（おぎくぼ）\"\n",
    "let test3 = hyoji {kanji = \"目黒\"; kana = \"めぐろ\"; romaji = \"meguro\"; shozoku = \"山手線\"} = \"山手線, 目黒（めぐろ）\""
   ]
  }
 ],
 "metadata": {
  "kernelspec": {
   "display_name": "OCaml 4.05.0",
   "language": "OCaml",
   "name": "ocaml-jupyter"
  },
  "language_info": {
   "codemirror_mode": "text/x-ocaml",
   "file_extension": ".ml",
   "mimetype": "text/x-ocaml",
   "name": "OCaml",
   "nbconverter_exporter": null,
   "pygments_lexer": "OCaml",
   "version": "4.05.0"
  }
 },
 "nbformat": 4,
 "nbformat_minor": 2
}
