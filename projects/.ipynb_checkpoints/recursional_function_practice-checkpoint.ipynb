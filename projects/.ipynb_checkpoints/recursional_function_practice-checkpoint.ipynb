{
 "cells": [
  {
   "cell_type": "markdown",
   "metadata": {},
   "source": [
    "## 第1問"
   ]
  },
  {
   "cell_type": "code",
   "execution_count": 1,
   "metadata": {},
   "outputs": [],
   "source": [
    "(* int list は\n",
    "  - []               空リスト、あるいは\n",
    "  - first :: rest    最初の要素をfirst, 残りのリストがrest\n",
    "という形のデータ型 *)"
   ]
  },
  {
   "cell_type": "code",
   "execution_count": 10,
   "metadata": {},
   "outputs": [
    {
     "data": {
      "text/plain": [
       "val length : 'a list -> int = <fun>\n"
      ]
     },
     "execution_count": 10,
     "metadata": {},
     "output_type": "execute_result"
    }
   ],
   "source": [
    "(* 目的: 整数のリストlstを受け取ったら、そのリストの長さを返す *)\n",
    "(* length : int list -> int *)\n",
    "let rec length lst = match lst with\n",
    "  [] -> 0\n",
    "  | first :: rest -> 1 + length rest (* length rest *)"
   ]
  },
  {
   "cell_type": "code",
   "execution_count": 9,
   "metadata": {},
   "outputs": [
    {
     "data": {
      "text/plain": [
       "val test1 : bool = true\n"
      ]
     },
     "execution_count": 9,
     "metadata": {},
     "output_type": "execute_result"
    },
    {
     "data": {
      "text/plain": [
       "val test2 : bool = true\n"
      ]
     },
     "execution_count": 9,
     "metadata": {},
     "output_type": "execute_result"
    },
    {
     "data": {
      "text/plain": [
       "val test3 : bool = true\n"
      ]
     },
     "execution_count": 9,
     "metadata": {},
     "output_type": "execute_result"
    },
    {
     "data": {
      "text/plain": [
       "val test4 : bool = true\n"
      ]
     },
     "execution_count": 9,
     "metadata": {},
     "output_type": "execute_result"
    }
   ],
   "source": [
    "(* テスト *)\n",
    "let test1 = length [] = 0\n",
    "let test2 = length [2] = 1\n",
    "let test3 = length [3; 4; 8;] = 3\n",
    "let test4 = length [2; 1; 6; 4; 7] = 5"
   ]
  },
  {
   "cell_type": "code",
   "execution_count": 14,
   "metadata": {},
   "outputs": [
    {
     "data": {
      "text/plain": [
       "- : int = 3\n"
      ]
     },
     "execution_count": 14,
     "metadata": {},
     "output_type": "execute_result"
    },
    {
     "data": {
      "text/plain": [
       "- : int = 3\n"
      ]
     },
     "execution_count": 14,
     "metadata": {},
     "output_type": "execute_result"
    }
   ],
   "source": [
    "length [3; 4; 8] ;;\n",
    "List.length [3; 4; 8] ;;"
   ]
  },
  {
   "cell_type": "markdown",
   "metadata": {},
   "source": [
    "## 第2問"
   ]
  },
  {
   "cell_type": "code",
   "execution_count": 15,
   "metadata": {},
   "outputs": [],
   "source": [
    "(* int list は\n",
    "  - []             空リスト、あるいは\n",
    "  - first :: rest  最初の要素がfirst, 残りのリストがrest\n",
    "という形のデータ *)"
   ]
  },
  {
   "cell_type": "code",
   "execution_count": 24,
   "metadata": {},
   "outputs": [
    {
     "data": {
      "text/plain": [
       "val even : int list -> int list = <fun>\n"
      ]
     },
     "execution_count": 24,
     "metadata": {},
     "output_type": "execute_result"
    }
   ],
   "source": [
    "(* 整数のリストを受け取り、その中の偶数の要素のみを含むリストを返す *)\n",
    "(* even : int list -> int list *)\n",
    "let rec even lst = match lst with\n",
    "  [] -> []\n",
    "  | first :: rest -> if (first mod 2) = 0 then first :: even rest\n",
    "                                          else even rest"
   ]
  },
  {
   "cell_type": "code",
   "execution_count": 25,
   "metadata": {},
   "outputs": [
    {
     "data": {
      "text/plain": [
       "val test0 : bool = true\n"
      ]
     },
     "execution_count": 25,
     "metadata": {},
     "output_type": "execute_result"
    },
    {
     "data": {
      "text/plain": [
       "val test1 : bool = true\n"
      ]
     },
     "execution_count": 25,
     "metadata": {},
     "output_type": "execute_result"
    },
    {
     "data": {
      "text/plain": [
       "val test2 : bool = true\n"
      ]
     },
     "execution_count": 25,
     "metadata": {},
     "output_type": "execute_result"
    },
    {
     "data": {
      "text/plain": [
       "val test3 : bool = true\n"
      ]
     },
     "execution_count": 25,
     "metadata": {},
     "output_type": "execute_result"
    },
    {
     "data": {
      "text/plain": [
       "val test4 : bool = true\n"
      ]
     },
     "execution_count": 25,
     "metadata": {},
     "output_type": "execute_result"
    }
   ],
   "source": [
    "(* テスト *)\n",
    "let test0 = even [] = []\n",
    "let test1 = even [1] = []\n",
    "let test2 = even [1; 2] = [2]\n",
    "let test3 = even [2; 4; 5; 8] = [2; 4; 8]\n",
    "let test4 = even [4; 8; 4; 0; 3; 7; 10] = [4; 8; 4; 0; 10]"
   ]
  },
  {
   "cell_type": "markdown",
   "metadata": {},
   "source": [
    "## 第3問"
   ]
  },
  {
   "cell_type": "code",
   "execution_count": 26,
   "metadata": {},
   "outputs": [],
   "source": [
    "(* string list は\n",
    "  - []             空リスト、あるいは\n",
    "  - first :: rest  最初の要素がfirstで残りのリストがrest\n",
    "という形の再帰的データ *)"
   ]
  },
  {
   "cell_type": "code",
   "execution_count": 33,
   "metadata": {},
   "outputs": [
    {
     "data": {
      "text/plain": [
       "val concat : string list -> string = <fun>\n"
      ]
     },
     "execution_count": 33,
     "metadata": {},
     "output_type": "execute_result"
    }
   ],
   "source": [
    "(* 文字列のリストを受け取ったら、その中の要素を前から順に全部くっつけた文字列を返す *)\n",
    "(* concat : string list -> string *)\n",
    "let rec concat lst = match lst with\n",
    "  [] -> \"\"\n",
    "  | first :: rest -> first ^ concat rest (* 再帰呼び出し可能な形 concat rest *)"
   ]
  },
  {
   "cell_type": "code",
   "execution_count": 34,
   "metadata": {},
   "outputs": [
    {
     "data": {
      "text/plain": [
       "val test1 : bool = true\n"
      ]
     },
     "execution_count": 34,
     "metadata": {},
     "output_type": "execute_result"
    },
    {
     "data": {
      "text/plain": [
       "val test2 : bool = true\n"
      ]
     },
     "execution_count": 34,
     "metadata": {},
     "output_type": "execute_result"
    },
    {
     "data": {
      "text/plain": [
       "val test3 : bool = true\n"
      ]
     },
     "execution_count": 34,
     "metadata": {},
     "output_type": "execute_result"
    }
   ],
   "source": [
    "(* テスト *)\n",
    "let test1 = concat [] = \"\"\n",
    "let test2 = concat [\"春\"; \"夏\"; \"秋\"; \"冬\"] = \"春夏秋冬\"\n",
    "let test3 = concat [\"粥川\"; \"俊介\"] = \"粥川俊介\""
   ]
  }
 ],
 "metadata": {
  "kernelspec": {
   "display_name": "OCaml 4.05.0",
   "language": "OCaml",
   "name": "ocaml-jupyter"
  },
  "language_info": {
   "codemirror_mode": "text/x-ocaml",
   "file_extension": ".ml",
   "mimetype": "text/x-ocaml",
   "name": "OCaml",
   "nbconverter_exporter": null,
   "pygments_lexer": "OCaml",
   "version": "4.05.0"
  }
 },
 "nbformat": 4,
 "nbformat_minor": 2
}
