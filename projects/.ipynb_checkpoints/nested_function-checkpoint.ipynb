{
 "cells": [
  {
   "cell_type": "code",
   "execution_count": 5,
   "metadata": {},
   "outputs": [
    {
     "data": {
      "text/plain": [
       "val add_to_each : 'a -> 'a list list -> 'a list list = <fun>\n"
      ]
     },
     "execution_count": 5,
     "metadata": {},
     "output_type": "execute_result"
    }
   ],
   "source": [
    "(* 目的: 受け取ったlstの要素それぞれの先頭にnをくっつける *)\n",
    "(* add_to_each : int list -> int list list -> int list list *)\n",
    "let rec add_to_each n lst = match lst with\n",
    "  [] -> []\n",
    "  | first :: rest -> (n :: first) :: add_to_each n rest (* add_to_each n rest *)"
   ]
  },
  {
   "cell_type": "code",
   "execution_count": 9,
   "metadata": {},
   "outputs": [
    {
     "data": {
      "text/plain": [
       "val prefix : 'a list -> 'a list list = <fun>\n"
      ]
     },
     "execution_count": 9,
     "metadata": {},
     "output_type": "execute_result"
    }
   ],
   "source": [
    "(* 目的: 受け取ったlstの接頭語のリストを求める *)\n",
    "(* prefix : int list -> int list list *)\n",
    "let rec prefix lst = match lst with\n",
    "  [] -> []\n",
    "  | first :: rest -> [first] :: add_to_each first (prefix rest) (* prefix rest *)"
   ]
  },
  {
   "cell_type": "code",
   "execution_count": 7,
   "metadata": {},
   "outputs": [
    {
     "data": {
      "text/plain": [
       "val test1 : bool = true\n"
      ]
     },
     "execution_count": 7,
     "metadata": {},
     "output_type": "execute_result"
    },
    {
     "data": {
      "text/plain": [
       "val test2 : bool = true\n"
      ]
     },
     "execution_count": 7,
     "metadata": {},
     "output_type": "execute_result"
    },
    {
     "data": {
      "text/plain": [
       "val test3 : bool = true\n"
      ]
     },
     "execution_count": 7,
     "metadata": {},
     "output_type": "execute_result"
    },
    {
     "data": {
      "text/plain": [
       "val test4 : bool = true\n"
      ]
     },
     "execution_count": 7,
     "metadata": {},
     "output_type": "execute_result"
    }
   ],
   "source": [
    "(* テスト *)\n",
    "let test1 = add_to_each 1 [] = []\n",
    "let test2 = add_to_each 1 [[2]] = [[1; 2]]\n",
    "let test3 = add_to_each 1 [[2]; [2; 3]] = [[1; 2]; [1; 2; 3]]\n",
    "let test4 = add_to_each 1 [[2]; [2; 3]; [2; 3; 4]] = [[1; 2]; [1; 2; 3]; [1; 2; 3; 4]]"
   ]
  },
  {
   "cell_type": "markdown",
   "metadata": {},
   "source": [
    "### Q1"
   ]
  },
  {
   "cell_type": "code",
   "execution_count": 11,
   "metadata": {},
   "outputs": [
    {
     "data": {
      "text/plain": [
       "val test5 : bool = true\n"
      ]
     },
     "execution_count": 11,
     "metadata": {},
     "output_type": "execute_result"
    },
    {
     "data": {
      "text/plain": [
       "val test6 : bool = true\n"
      ]
     },
     "execution_count": 11,
     "metadata": {},
     "output_type": "execute_result"
    },
    {
     "data": {
      "text/plain": [
       "val test7 : bool = true\n"
      ]
     },
     "execution_count": 11,
     "metadata": {},
     "output_type": "execute_result"
    },
    {
     "data": {
      "text/plain": [
       "val test8 : bool = true\n"
      ]
     },
     "execution_count": 11,
     "metadata": {},
     "output_type": "execute_result"
    }
   ],
   "source": [
    "(* テスト *)\n",
    "let test5 = prefix [] = []\n",
    "let test6 = prefix [1] = [[1]]\n",
    "let test7 = prefix [1; 2] = [[1]; [1; 2]]\n",
    "let test8 = prefix [1; 2; 3; 4] = [[1]; [1; 2]; [1; 2; 3]; [1; 2; 3; 4]]"
   ]
  },
  {
   "cell_type": "code",
   "execution_count": 25,
   "metadata": {},
   "outputs": [
    {
     "data": {
      "text/plain": [
       "val insert : 'a list -> 'a -> 'a list = <fun>\n"
      ]
     },
     "execution_count": 25,
     "metadata": {},
     "output_type": "execute_result"
    }
   ],
   "source": [
    "(* 目的: 昇順に並んでいるリストlstと整数nを受け取ったら、lstを前から順に探索し、昇順となる位置にnを挿入したリストを返す *)\n",
    "(* insert : int list -> int -> int list *)\n",
    "let rec insert lst n = match lst with\n",
    "  [] -> n :: []\n",
    "  | first :: rest -> if (n <= first) then n :: (first :: rest)\n",
    "                                      else first :: (insert rest n) (* insert rest n *)"
   ]
  },
  {
   "cell_type": "code",
   "execution_count": 26,
   "metadata": {},
   "outputs": [
    {
     "data": {
      "text/plain": [
       "val test1 : bool = true\n"
      ]
     },
     "execution_count": 26,
     "metadata": {},
     "output_type": "execute_result"
    },
    {
     "data": {
      "text/plain": [
       "val test2 : bool = true\n"
      ]
     },
     "execution_count": 26,
     "metadata": {},
     "output_type": "execute_result"
    },
    {
     "data": {
      "text/plain": [
       "val test3 : bool = true\n"
      ]
     },
     "execution_count": 26,
     "metadata": {},
     "output_type": "execute_result"
    },
    {
     "data": {
      "text/plain": [
       "val test4 : bool = true\n"
      ]
     },
     "execution_count": 26,
     "metadata": {},
     "output_type": "execute_result"
    }
   ],
   "source": [
    "(* テスト *)\n",
    "let test1 = insert [] 5 = [5]\n",
    "let test2 = insert [2; 3; 5] 1 = [1; 2; 3; 5]\n",
    "let test3 = insert [1; 3; 4; 7; 8] 5 = [1; 3; 4; 5; 7; 8]\n",
    "let test4 = insert [1; 3; 4; 5; 7; 8; 10] 9 = [1; 3; 4; 5; 7; 8; 9; 10]"
   ]
  },
  {
   "cell_type": "markdown",
   "metadata": {},
   "source": [
    "### Q2"
   ]
  },
  {
   "cell_type": "code",
   "execution_count": 32,
   "metadata": {},
   "outputs": [
    {
     "data": {
      "text/plain": [
       "val ins_sort : 'a list -> 'a list = <fun>\n"
      ]
     },
     "execution_count": 32,
     "metadata": {},
     "output_type": "execute_result"
    }
   ],
   "source": [
    "(* 目的: 整数のリストを受け取ったら、昇順に整列したリストを返す(挿入ソート) *)\n",
    "(* ins_sort : int list -> int list *)\n",
    "let rec ins_sort lst = match lst with\n",
    "  [] -> []\n",
    "  | first :: rest -> insert (ins_sort rest) first (* ins_sort rest *)"
   ]
  },
  {
   "cell_type": "code",
   "execution_count": 34,
   "metadata": {},
   "outputs": [
    {
     "data": {
      "text/plain": [
       "val test1 : bool = true\n"
      ]
     },
     "execution_count": 34,
     "metadata": {},
     "output_type": "execute_result"
    },
    {
     "data": {
      "text/plain": [
       "val test2 : bool = true\n"
      ]
     },
     "execution_count": 34,
     "metadata": {},
     "output_type": "execute_result"
    },
    {
     "data": {
      "text/plain": [
       "val test3 : bool = true\n"
      ]
     },
     "execution_count": 34,
     "metadata": {},
     "output_type": "execute_result"
    },
    {
     "data": {
      "text/plain": [
       "val test4 : bool = true\n"
      ]
     },
     "execution_count": 34,
     "metadata": {},
     "output_type": "execute_result"
    }
   ],
   "source": [
    "(*　テスト *)\n",
    "let test1 = ins_sort [] = []\n",
    "let test2 = ins_sort [3; 1] = [1; 3]\n",
    "let test3 = ins_sort [5; 3; 8; 1; 7; 4] = [1; 3; 4; 5; 7; 8]\n",
    "let test4 = ins_sort [12; 89; 34; 2; 8; 4; 29; 80] = [2; 4; 8; 12; 29; 34; 80; 89]"
   ]
  },
  {
   "cell_type": "markdown",
   "metadata": {},
   "source": [
    "### Q3"
   ]
  },
  {
   "cell_type": "code",
   "execution_count": null,
   "metadata": {},
   "outputs": [],
   "source": [
    "(* 学生のデータ（名前, 点数, 成績）を表す型 *)\n",
    "type gakusei_t = {\n",
    "  namae : string;     (* 名前 *)\n",
    "  tensuu : int;       (* 点数 *)\n",
    "  seiseki : string;   (* 成績 *)\n",
    "}\n",
    "\n",
    "(* gakusei_t list は\n",
    "  - []                空リスト、あるいは\n",
    "  - first :: rest     最初の要素がfirst, 残りのリストがrest\n",
    "                      (firstはgakusei_t型, restは自己参照するケース)\n",
    "という形のデータ型 *)\n",
    "\n",
    "(* 学生のデータの例 *) \n",
    "let gakusei1 = {namae=\"nakamura\"; tensuu=90; seiseki=\"A\"} \n",
    "let gakusei2 = {namae=\"miyahara\"; tensuu=80; seiseki=\"A\"} \n",
    "let gakusei3 = {namae=\"sato\"; tensuu=75; seiseki=\"B\"} \n",
    "let gakusei4 = {namae=\"idehara\"; tensuu=70; seiseki=\"B\"} \n",
    "let gakusei5 = {namae=\"tsubata\"; tensuu=65; seiseki=\"C\"} \n",
    "let gakusei6 = {namae=\"asai\"; tensuu=60; seiseki=\"C\"} \n",
    " \n",
    "(* 学生のリストの例 *) \n",
    "let lst1 = [] \n",
    "let lst2 = [gakusei2] \n",
    "let lst3 = [gakusei3; gakusei4] \n",
    "let lst4 = [gakusei4; gakusei3] \n",
    "let lst5 = [gakusei4; gakusei1; gakusei6; gakusei5; gakusei2; gakusei3] "
   ]
  },
  {
   "cell_type": "code",
   "execution_count": 67,
   "metadata": {},
   "outputs": [
    {
     "data": {
      "text/plain": [
       "val gakusei_insert : gakusei_t list -> gakusei_t -> gakusei_t list = <fun>\n"
      ]
     },
     "execution_count": 67,
     "metadata": {},
     "output_type": "execute_result"
    }
   ],
   "source": [
    "(* 目的: 昇順に並んでいるgakusei_t list型lstのtensuuの昇順の位置にgakuseiを挿入したリストを返す *)\n",
    "(* gakusei_insert : gakusei_t list -> gakusei_t -> gakusei_t list *)\n",
    "let rec gakusei_insert lst gakusei0 = match lst with\n",
    "  [] -> [gakusei0]\n",
    "  | ({namae = n; tensuu = t; seiseki = s} as first) :: rest\n",
    "     -> match gakusei0 with {namae = n0; tensuu = t0; seiseki = s0}\n",
    "       -> if t0 <= t then gakusei0 :: (lst)\n",
    "                      else first :: (gakusei_insert rest gakusei0) (* 再帰呼び出し gakusei_insert rest gakusei0 *)"
   ]
  },
  {
   "cell_type": "code",
   "execution_count": 68,
   "metadata": {},
   "outputs": [
    {
     "data": {
      "text/plain": [
       "val test1 : bool = true\n"
      ]
     },
     "execution_count": 68,
     "metadata": {},
     "output_type": "execute_result"
    },
    {
     "data": {
      "text/plain": [
       "val test2 : bool = true\n"
      ]
     },
     "execution_count": 68,
     "metadata": {},
     "output_type": "execute_result"
    },
    {
     "data": {
      "text/plain": [
       "val test3 : bool = true\n"
      ]
     },
     "execution_count": 68,
     "metadata": {},
     "output_type": "execute_result"
    },
    {
     "data": {
      "text/plain": [
       "val test4 : bool = true\n"
      ]
     },
     "execution_count": 68,
     "metadata": {},
     "output_type": "execute_result"
    }
   ],
   "source": [
    "(* テスト *) \n",
    "let test1 = gakusei_insert [] gakusei2 = [gakusei2] \n",
    "let test2 = gakusei_insert [gakusei4] gakusei3 = [gakusei4; gakusei3] \n",
    "let test3 = gakusei_insert [gakusei3] gakusei4 = [gakusei4; gakusei3] \n",
    "let test4 = gakusei_insert [gakusei6; gakusei5; gakusei3; gakusei2; gakusei1] gakusei4 \n",
    "          = [gakusei6; gakusei5; gakusei4; gakusei3; gakusei2; gakusei1]"
   ]
  },
  {
   "cell_type": "code",
   "execution_count": 65,
   "metadata": {
    "scrolled": true
   },
   "outputs": [
    {
     "data": {
      "text/plain": [
       "val gakusei_ins_sort : gakusei_t list -> gakusei_t list = <fun>\n"
      ]
     },
     "execution_count": 65,
     "metadata": {},
     "output_type": "execute_result"
    }
   ],
   "source": [
    "(* 目的: gakusei_t型のリストを受け取ったら、tensuuフィールドの昇順に整列したリストを返す *)\n",
    "(* gakusei_ins_sort : gakusei_t list -> gakusei_t list *)\n",
    "let rec gakusei_ins_sort lst = match lst with\n",
    "  [] -> []\n",
    "  | first :: rest -> gakusei_insert (gakusei_ins_sort rest) first (* gakusei_ins_sort rest *)"
   ]
  },
  {
   "cell_type": "code",
   "execution_count": 66,
   "metadata": {},
   "outputs": [
    {
     "data": {
      "text/plain": [
       "val test5 : bool = true\n"
      ]
     },
     "execution_count": 66,
     "metadata": {},
     "output_type": "execute_result"
    },
    {
     "data": {
      "text/plain": [
       "val test6 : bool = true\n"
      ]
     },
     "execution_count": 66,
     "metadata": {},
     "output_type": "execute_result"
    },
    {
     "data": {
      "text/plain": [
       "val test7 : bool = true\n"
      ]
     },
     "execution_count": 66,
     "metadata": {},
     "output_type": "execute_result"
    },
    {
     "data": {
      "text/plain": [
       "val test8 : bool = true\n"
      ]
     },
     "execution_count": 66,
     "metadata": {},
     "output_type": "execute_result"
    },
    {
     "data": {
      "text/plain": [
       "val test9 : bool = true\n"
      ]
     },
     "execution_count": 66,
     "metadata": {},
     "output_type": "execute_result"
    }
   ],
   "source": [
    "(* テスト *) \n",
    "let test5 = gakusei_ins_sort lst1 = [] \n",
    "let test6 = gakusei_ins_sort lst2 = [gakusei2] \n",
    "let test7 = gakusei_ins_sort lst3 = [gakusei4; gakusei3] \n",
    "let test8 = gakusei_ins_sort lst4 = [gakusei4; gakusei3] \n",
    "let test9 = gakusei_ins_sort lst5 = [gakusei6; gakusei5; gakusei4; gakusei3; gakusei2; gakusei1] "
   ]
  },
  {
   "cell_type": "markdown",
   "metadata": {},
   "source": [
    "### Q4"
   ]
  },
  {
   "cell_type": "code",
   "execution_count": 82,
   "metadata": {
    "scrolled": true
   },
   "outputs": [
    {
     "data": {
      "text/plain": [
       "type person_t = {\n",
       "  name : string;\n",
       "  shincho : float;\n",
       "  taiju : float;\n",
       "  birthday : int;\n",
       "  ketsueki : string;\n",
       "}\n"
      ]
     },
     "execution_count": 82,
     "metadata": {},
     "output_type": "execute_result"
    },
    {
     "data": {
      "text/plain": [
       "val person1 : person_t =\n",
       "  {name = \"粥川\"; shincho = 1.67; taiju = 77.8; birthday = 1113;\n",
       "   ketsueki = \"B\"}\n"
      ]
     },
     "execution_count": 82,
     "metadata": {},
     "output_type": "execute_result"
    },
    {
     "data": {
      "text/plain": [
       "val person2 : person_t =\n",
       "  {name = \"坂庭\"; shincho = 1.73; taiju = 74.2; birthday = 624;\n",
       "   ketsueki = \"AB\"}\n"
      ]
     },
     "execution_count": 82,
     "metadata": {},
     "output_type": "execute_result"
    },
    {
     "data": {
      "text/plain": [
       "val person3 : person_t =\n",
       "  {name = \"西尾\"; shincho = 1.66; taiju = 76.2; birthday = 926;\n",
       "   ketsueki = \"O\"}\n"
      ]
     },
     "execution_count": 82,
     "metadata": {},
     "output_type": "execute_result"
    },
    {
     "data": {
      "text/plain": [
       "val person4 : person_t =\n",
       "  {name = \"新井\"; shincho = 1.83; taiju = 67.3; birthday = 1225;\n",
       "   ketsueki = \"A\"}\n"
      ]
     },
     "execution_count": 82,
     "metadata": {},
     "output_type": "execute_result"
    },
    {
     "data": {
      "text/plain": [
       "val person5 : person_t =\n",
       "  {name = \"榊原\"; shincho = 1.68; taiju = 55.3; birthday = 1231;\n",
       "   ketsueki = \"A\"}\n"
      ]
     },
     "execution_count": 82,
     "metadata": {},
     "output_type": "execute_result"
    },
    {
     "data": {
      "text/plain": [
       "val lst1 : 'a list = []\n"
      ]
     },
     "execution_count": 82,
     "metadata": {},
     "output_type": "execute_result"
    },
    {
     "data": {
      "text/plain": [
       "val lst2 : person_t list =\n",
       "  [{name = \"坂庭\"; shincho = 1.73; taiju = 74.2; birthday = 624;\n",
       "    ketsueki = \"AB\"};\n",
       "   {name = \"新井\"; shincho = 1.83; taiju = 67.3; birthday = 1225;\n",
       "    ketsueki = \"A\"}]\n"
      ]
     },
     "execution_count": 82,
     "metadata": {},
     "output_type": "execute_result"
    },
    {
     "data": {
      "text/plain": [
       "val lst3 : person_t list =\n",
       "  [{name = \"粥川\"; shincho = 1.67; taiju = 77.8; birthday = 1113;\n",
       "    ketsueki = \"B\"};\n",
       "   {name = \"坂庭\"; shincho = 1.73; taiju = 74.2; birthday = 624;\n",
       "    ketsueki = \"AB\"};\n",
       "   {name = \"新井\"; shincho = 1.83; taiju = 67.3; birthday = 1225;\n",
       "    ketsueki = \"A\"}]\n"
      ]
     },
     "execution_count": 82,
     "metadata": {},
     "output_type": "execute_result"
    },
    {
     "data": {
      "text/plain": [
       "val lst4 : person_t list =\n",
       "  [{name = \"西尾\"; shincho = 1.66; taiju = 76.2; birthday = 926;\n",
       "    ketsueki = \"O\"};\n",
       "   {name = \"粥川\"; shincho = 1.67; taiju = 77.8; birthday = 1113;\n",
       "    ketsueki = \"B\"};\n",
       "   {name = \"榊原\"; shincho = 1.68; taiju = 55.3; birthday = 1231;\n",
       "    ketsueki = \"A\"};\n",
       "   {name = \"坂庭\"; shincho = 1.73; taiju = 74.2; birthday = 624;\n",
       "    ketsueki = \"AB\"}]\n"
      ]
     },
     "execution_count": 82,
     "metadata": {},
     "output_type": "execute_result"
    },
    {
     "data": {
      "text/plain": [
       "val lst5 : 'a list = []\n"
      ]
     },
     "execution_count": 82,
     "metadata": {},
     "output_type": "execute_result"
    },
    {
     "data": {
      "text/plain": [
       "val lst6 : person_t list =\n",
       "  [{name = \"西尾\"; shincho = 1.66; taiju = 76.2; birthday = 926;\n",
       "    ketsueki = \"O\"};\n",
       "   {name = \"坂庭\"; shincho = 1.73; taiju = 74.2; birthday = 624;\n",
       "    ketsueki = \"AB\"}]\n"
      ]
     },
     "execution_count": 82,
     "metadata": {},
     "output_type": "execute_result"
    },
    {
     "data": {
      "text/plain": [
       "val lst7 : person_t list =\n",
       "  [{name = \"新井\"; shincho = 1.83; taiju = 67.3; birthday = 1225;\n",
       "    ketsueki = \"A\"};\n",
       "   {name = \"粥川\"; shincho = 1.67; taiju = 77.8; birthday = 1113;\n",
       "    ketsueki = \"B\"};\n",
       "   {name = \"西尾\"; shincho = 1.66; taiju = 76.2; birthday = 926;\n",
       "    ketsueki = \"O\"}]\n"
      ]
     },
     "execution_count": 82,
     "metadata": {},
     "output_type": "execute_result"
    },
    {
     "data": {
      "text/plain": [
       "val lst8 : person_t list =\n",
       "  [{name = \"坂庭\"; shincho = 1.73; taiju = 74.2; birthday = 624;\n",
       "    ketsueki = \"AB\"};\n",
       "   {name = \"榊原\"; shincho = 1.68; taiju = 55.3; birthday = 1231;\n",
       "    ketsueki = \"A\"};\n",
       "   {name = \"西尾\"; shincho = 1.66; taiju = 76.2; birthday = 926;\n",
       "    ketsueki = \"O\"};\n",
       "   {name = \"粥川\"; shincho = 1.67; taiju = 77.8; birthday = 1113;\n",
       "    ketsueki = \"B\"};\n",
       "   {name = \"新井\"; shincho = 1.83; taiju = 67.3; birthday = 1225;\n",
       "    ketsueki = \"A\"}]\n"
      ]
     },
     "execution_count": 82,
     "metadata": {},
     "output_type": "execute_result"
    }
   ],
   "source": [
    "(* 人に関する情報を格納するレコード *) \n",
    "type person_t = { \n",
    "  name : string;    (* 名前 *) \n",
    "  shincho : float;  (* 身長 *) \n",
    "  taiju : float;    (* 体重 *) \n",
    "  birthday : int;   (* 誕生日 *) \n",
    "  ketsueki : string;(* 血液型 *) \n",
    "} \n",
    "\n",
    "(* person_t list は\n",
    "  - []             空リスト、あるいは\n",
    "  - first :: rest  最初の要素がfirst, 残りのリストがrest\n",
    "                   (firstはperson_t型, restが自己参照しているケース)\n",
    "という形のデータ型 *)\n",
    "\n",
    "(* サンプルデータ *)\n",
    "let person1 = {name = \"粥川\"; shincho =  1.67; taiju = 77.8; birthday = 1113; ketsueki = \"B\"}\n",
    "let person2 = {name = \"坂庭\"; shincho = 1.73; taiju = 74.2; birthday =0624 ; ketsueki = \"AB\"}\n",
    "let person3 = {name = \"西尾\"; shincho = 1.66; taiju = 76.2; birthday = 0926; ketsueki = \"O\"}\n",
    "let person4 = {name = \"新井\"; shincho = 1.83; taiju = 67.3; birthday = 1225; ketsueki = \"A\"}\n",
    "let person5 = {name = \"榊原\"; shincho = 1.68; taiju = 55.3; birthday = 1231; ketsueki = \"A\"}\n",
    "(* サンプルリスト *)\n",
    "let lst1 = []\n",
    "let lst2 = [person2; person4]\n",
    "let lst3 = [person1; person2; person4]\n",
    "let lst4 = [person3; person1; person5; person2]\n",
    "let lst5 = []\n",
    "let lst6 = [person3; person2]\n",
    "let lst7 = [person4; person1; person3]\n",
    "let lst8 = [person2; person5; person3; person1; person4]"
   ]
  },
  {
   "cell_type": "code",
   "execution_count": 89,
   "metadata": {},
   "outputs": [
    {
     "data": {
      "text/plain": [
       "val person_insert : person_t list -> person_t -> person_t list = <fun>\n"
      ]
     },
     "execution_count": 89,
     "metadata": {},
     "output_type": "execute_result"
    },
    {
     "data": {
      "text/plain": [
       "val person_ins_sort : person_t list -> person_t list = <fun>\n"
      ]
     },
     "execution_count": 89,
     "metadata": {},
     "output_type": "execute_result"
    }
   ],
   "source": [
    "(* 目的: 身長順に整列されたperson_t list型リストlstを受け取り、person_t型のデータperson0を正しい位置に挿入したリストを返す *)\n",
    "(* person_insert : person_t list -> person_t -> person_t list *)\n",
    "let rec person_insert lst person0 = match lst with\n",
    "   [] -> [person0]\n",
    "  | {name = n; shincho = s; taiju = t; birthday = b; ketsueki = k} as first :: rest\n",
    "      -> match person0 with {name = n0; shincho = s0; taiju = t0; birthday = b0; ketsueki = k0}\n",
    "        -> if s < s0 then first :: (person_insert rest person0) (* person_insert rest person0 *)\n",
    "                      else person0 :: lst\n",
    "\n",
    "(* 目的: person_t list型のリストを受け取ったら、身長の順に整列したリストを返す *)\n",
    "(* person_ins_sort : person_t list -> person_t list *)\n",
    "let rec person_ins_sort lst = match lst with\n",
    "  [] -> []\n",
    "  | first :: rest -> person_insert (person_ins_sort rest) first (* person_ins_sort *)"
   ]
  },
  {
   "cell_type": "code",
   "execution_count": 90,
   "metadata": {},
   "outputs": [
    {
     "data": {
      "text/plain": [
       "val test2 : bool = true\n"
      ]
     },
     "execution_count": 90,
     "metadata": {},
     "output_type": "execute_result"
    },
    {
     "data": {
      "text/plain": [
       "val test3 : bool = true\n"
      ]
     },
     "execution_count": 90,
     "metadata": {},
     "output_type": "execute_result"
    },
    {
     "data": {
      "text/plain": [
       "val test4 : bool = true\n"
      ]
     },
     "execution_count": 90,
     "metadata": {},
     "output_type": "execute_result"
    },
    {
     "data": {
      "text/plain": [
       "val test5 : bool = true\n"
      ]
     },
     "execution_count": 90,
     "metadata": {},
     "output_type": "execute_result"
    },
    {
     "data": {
      "text/plain": [
       "val test6 : bool = true\n"
      ]
     },
     "execution_count": 90,
     "metadata": {},
     "output_type": "execute_result"
    },
    {
     "data": {
      "text/plain": [
       "val test7 : bool = true\n"
      ]
     },
     "execution_count": 90,
     "metadata": {},
     "output_type": "execute_result"
    },
    {
     "data": {
      "text/plain": [
       "val test8 : bool = true\n"
      ]
     },
     "execution_count": 90,
     "metadata": {},
     "output_type": "execute_result"
    }
   ],
   "source": [
    "(* person_insertのテスト *)\n",
    "let test2 = person_insert lst2 person1 = [person1; person2; person4]\n",
    "let test3 = person_insert lst3 person5 = [person1; person5; person2; person4]\n",
    "let test4 = person_insert lst4 person4 = [person3; person1; person5; person2; person4]\n",
    "(* person_ins_sortのテスト *)\n",
    "let test5 = person_ins_sort lst5 = []\n",
    "let test6 = person_ins_sort lst6 = [person3; person2]\n",
    "let test7 = person_ins_sort lst7 = [person3; person1; person4]\n",
    "let test8 = person_ins_sort lst8 = [person3; person1; person5; person2; person4]"
   ]
  },
  {
   "cell_type": "code",
   "execution_count": 25,
   "metadata": {},
   "outputs": [
    {
     "data": {
      "text/plain": [
       "val minimum : int list -> int = <fun>\n"
      ]
     },
     "execution_count": 25,
     "metadata": {},
     "output_type": "execute_result"
    },
    {
     "data": {
      "text/plain": [
       "val test1 : bool = true\n"
      ]
     },
     "execution_count": 25,
     "metadata": {},
     "output_type": "execute_result"
    },
    {
     "data": {
      "text/plain": [
       "val test2 : bool = true\n"
      ]
     },
     "execution_count": 25,
     "metadata": {},
     "output_type": "execute_result"
    },
    {
     "data": {
      "text/plain": [
       "val test3 : bool = true\n"
      ]
     },
     "execution_count": 25,
     "metadata": {},
     "output_type": "execute_result"
    },
    {
     "data": {
      "text/plain": [
       "val test4 : bool = true\n"
      ]
     },
     "execution_count": 25,
     "metadata": {},
     "output_type": "execute_result"
    }
   ],
   "source": [
    "(* 目的: 受け取ったlstの中の最小値を返す *)\n",
    "(* minimum: int list -> int *)\n",
    "let rec minimum lst = match lst with\n",
    "  [] -> max_int\n",
    "  | first :: rest -> let min_rest = minimum rest in\n",
    "                         if first <= min_rest\n",
    "                         then first\n",
    "                         else min_rest (* minimum rest *)\n",
    "  \n",
    "(* テスト *)\n",
    "let test1 = minimum [3] = 3\n",
    "let test2 = minimum [1; 2] = 1\n",
    "let test3 = minimum [3; 2] = 2\n",
    "let test4 = minimum [3; 2; 6; 4; 1; 8] = 1"
   ]
  },
  {
   "cell_type": "markdown",
   "metadata": {},
   "source": [
    "### Q5"
   ]
  },
  {
   "cell_type": "code",
   "execution_count": 13,
   "metadata": {
    "scrolled": true
   },
   "outputs": [
    {
     "data": {
      "text/plain": [
       "type gakusei_t = { namae : string; tensuu : int; seiseki : string; }\n"
      ]
     },
     "execution_count": 13,
     "metadata": {},
     "output_type": "execute_result"
    },
    {
     "data": {
      "text/plain": [
       "val gakusei1 : gakusei_t = {namae = \"nakamura\"; tensuu = 90; seiseki = \"A\"}\n"
      ]
     },
     "execution_count": 13,
     "metadata": {},
     "output_type": "execute_result"
    },
    {
     "data": {
      "text/plain": [
       "val gakusei2 : gakusei_t = {namae = \"miyahara\"; tensuu = 80; seiseki = \"A\"}\n"
      ]
     },
     "execution_count": 13,
     "metadata": {},
     "output_type": "execute_result"
    },
    {
     "data": {
      "text/plain": [
       "val gakusei3 : gakusei_t = {namae = \"sato\"; tensuu = 75; seiseki = \"B\"}\n"
      ]
     },
     "execution_count": 13,
     "metadata": {},
     "output_type": "execute_result"
    },
    {
     "data": {
      "text/plain": [
       "val gakusei4 : gakusei_t = {namae = \"idehara\"; tensuu = 70; seiseki = \"B\"}\n"
      ]
     },
     "execution_count": 13,
     "metadata": {},
     "output_type": "execute_result"
    },
    {
     "data": {
      "text/plain": [
       "val gakusei5 : gakusei_t = {namae = \"tsubata\"; tensuu = 65; seiseki = \"C\"}\n"
      ]
     },
     "execution_count": 13,
     "metadata": {},
     "output_type": "execute_result"
    },
    {
     "data": {
      "text/plain": [
       "val gakusei6 : gakusei_t = {namae = \"asai\"; tensuu = 60; seiseki = \"C\"}\n"
      ]
     },
     "execution_count": 13,
     "metadata": {},
     "output_type": "execute_result"
    },
    {
     "data": {
      "text/plain": [
       "val lst1 : 'a list = []\n"
      ]
     },
     "execution_count": 13,
     "metadata": {},
     "output_type": "execute_result"
    },
    {
     "data": {
      "text/plain": [
       "val lst2 : gakusei_t list =\n",
       "  [{namae = \"miyahara\"; tensuu = 80; seiseki = \"A\"}]\n"
      ]
     },
     "execution_count": 13,
     "metadata": {},
     "output_type": "execute_result"
    },
    {
     "data": {
      "text/plain": [
       "val lst3 : gakusei_t list =\n",
       "  [{namae = \"sato\"; tensuu = 75; seiseki = \"B\"};\n",
       "   {namae = \"idehara\"; tensuu = 70; seiseki = \"B\"}]\n"
      ]
     },
     "execution_count": 13,
     "metadata": {},
     "output_type": "execute_result"
    },
    {
     "data": {
      "text/plain": [
       "val lst4 : gakusei_t list =\n",
       "  [{namae = \"idehara\"; tensuu = 70; seiseki = \"B\"};\n",
       "   {namae = \"sato\"; tensuu = 75; seiseki = \"B\"}]\n"
      ]
     },
     "execution_count": 13,
     "metadata": {},
     "output_type": "execute_result"
    },
    {
     "data": {
      "text/plain": [
       "val lst5 : gakusei_t list =\n",
       "  [{namae = \"idehara\"; tensuu = 70; seiseki = \"B\"};\n",
       "   {namae = \"nakamura\"; tensuu = 90; seiseki = \"A\"};\n",
       "   {namae = \"asai\"; tensuu = 60; seiseki = \"C\"};\n",
       "   {namae = \"tsubata\"; tensuu = 65; seiseki = \"C\"};\n",
       "   {namae = \"miyahara\"; tensuu = 80; seiseki = \"A\"};\n",
       "   {namae = \"sato\"; tensuu = 75; seiseki = \"B\"}]\n"
      ]
     },
     "execution_count": 13,
     "metadata": {},
     "output_type": "execute_result"
    }
   ],
   "source": [
    "(* 学生のデータ（名前, 点数, 成績）を表す型 *)\n",
    "type gakusei_t = {\n",
    "  namae : string;     (* 名前 *)\n",
    "  tensuu : int;       (* 点数 *)\n",
    "  seiseki : string;   (* 成績 *)\n",
    "}\n",
    "\n",
    "(* gakusei_t list は\n",
    "  - []                空リスト、あるいは\n",
    "  - first :: rest     最初の要素がfirst, 残りのリストがrest\n",
    "                      (firstはgakusei_t型, restは自己参照するケース)\n",
    "という形のデータ型 *)\n",
    "\n",
    "(* 学生のデータの例 *) \n",
    "let gakusei1 = {namae=\"nakamura\"; tensuu=90; seiseki=\"A\"} \n",
    "let gakusei2 = {namae=\"miyahara\"; tensuu=80; seiseki=\"A\"} \n",
    "let gakusei3 = {namae=\"sato\"; tensuu=75; seiseki=\"B\"} \n",
    "let gakusei4 = {namae=\"idehara\"; tensuu=70; seiseki=\"B\"} \n",
    "let gakusei5 = {namae=\"tsubata\"; tensuu=65; seiseki=\"C\"} \n",
    "let gakusei6 = {namae=\"asai\"; tensuu=60; seiseki=\"C\"} \n",
    " \n",
    "(* 学生のリストの例 *) \n",
    "let lst1 = [] \n",
    "let lst2 = [gakusei2] \n",
    "let lst3 = [gakusei3; gakusei4] \n",
    "let lst4 = [gakusei4; gakusei3] \n",
    "let lst5 = [gakusei4; gakusei1; gakusei6; gakusei5; gakusei2; gakusei3] "
   ]
  },
  {
   "cell_type": "code",
   "execution_count": 26,
   "metadata": {},
   "outputs": [
    {
     "data": {
      "text/plain": [
       "val gakusei_max : gakusei_t list -> gakusei_t = <fun>\n"
      ]
     },
     "execution_count": 26,
     "metadata": {},
     "output_type": "execute_result"
    },
    {
     "data": {
      "text/plain": [
       "val test2 : bool = true\n"
      ]
     },
     "execution_count": 26,
     "metadata": {},
     "output_type": "execute_result"
    },
    {
     "data": {
      "text/plain": [
       "val test3 : bool = true\n"
      ]
     },
     "execution_count": 26,
     "metadata": {},
     "output_type": "execute_result"
    },
    {
     "data": {
      "text/plain": [
       "val test5 : bool = true\n"
      ]
     },
     "execution_count": 26,
     "metadata": {},
     "output_type": "execute_result"
    }
   ],
   "source": [
    "(* 目的: gakusei_t list型のリスト受け取ったら、その中から最高得点を取った人のレコードを返す *)\n",
    "(* gakusei_max : gakusei_t list -> gakusei_t *)\n",
    "let rec gakusei_max lst = match lst with\n",
    "   [] -> {namae = \"\"; tensuu = min_int; seiseki = \"\"}\n",
    "  | ({namae = n; tensuu = t; seiseki = s} as first) :: rest\n",
    "      -> let max_human = (gakusei_max rest) in\n",
    "         match max_human with {namae = n0; tensuu = t0; seiseki = s0}\n",
    "        -> if t >= t0 then first\n",
    "                      else max_human\n",
    "                                   \n",
    "(* テスト *)\n",
    "let test2 = gakusei_max lst2 = gakusei2\n",
    "let test3 = gakusei_max lst3 = gakusei3\n",
    "let test5 = gakusei_max lst5 = gakusei1"
   ]
  },
  {
   "cell_type": "markdown",
   "metadata": {},
   "source": [
    "## ネストされた関数とローカル変数\n",
    "ネストされた関数により関数が定義されている場合で、同じ関数を関数内のあちこちで何度も呼び出している場合は、ローカル変数に関数の値を入れて使い回すようにする。計算量の削減になる"
   ]
  },
  {
   "cell_type": "code",
   "execution_count": 32,
   "metadata": {},
   "outputs": [
    {
     "data": {
      "text/plain": [
       "val shukei : gakusei_t list -> int * int * int * int = <fun>\n"
      ]
     },
     "execution_count": 32,
     "metadata": {},
     "output_type": "execute_result"
    },
    {
     "data": {
      "text/plain": [
       "val test1 : bool = true\n"
      ]
     },
     "execution_count": 32,
     "metadata": {},
     "output_type": "execute_result"
    },
    {
     "data": {
      "text/plain": [
       "val test2 : bool = true\n"
      ]
     },
     "execution_count": 32,
     "metadata": {},
     "output_type": "execute_result"
    },
    {
     "data": {
      "text/plain": [
       "val test3 : bool = true\n"
      ]
     },
     "execution_count": 32,
     "metadata": {},
     "output_type": "execute_result"
    },
    {
     "data": {
      "text/plain": [
       "val test5 : bool = true\n"
      ]
     },
     "execution_count": 32,
     "metadata": {},
     "output_type": "execute_result"
    }
   ],
   "source": [
    "(* 目的: 学生リストlstのうち、各成績の人数を集計する *)\n",
    "(* shukei : gakusei_t list -> int * int * int * int *)\n",
    "let rec shukei lst = match lst with\n",
    "   [] -> (0, 0, 0, 0)\n",
    "  | {namae = n; tensuu = t; seiseki = s} :: rest\n",
    "      -> let shukei_rest = (shukei rest) in match shukei_rest with (a, b, c, d) (* shukei rest *)\n",
    "           -> if s = \"A\" then (a + 1, b, c, d)\n",
    "              else if s = \"B\" then (a, b + 1, c, d)\n",
    "              else if s = \"C\" then (a, b, c + 1, d)\n",
    "              else (a, b, c, d + 1)\n",
    "\n",
    "(* テスト *)\n",
    "let test1 = shukei lst1 = (0, 0, 0, 0)\n",
    "let test2 = shukei lst2 = (1, 0, 0, 0)\n",
    "let test3 = shukei lst3 = (0, 2, 0, 0)\n",
    "let test5 = shukei lst5 = (2, 2, 2, 0)"
   ]
  }
 ],
 "metadata": {
  "celltoolbar": "Tags",
  "kernelspec": {
   "display_name": "OCaml 4.05.0",
   "language": "OCaml",
   "name": "ocaml-jupyter"
  },
  "language_info": {
   "codemirror_mode": "text/x-ocaml",
   "file_extension": ".ml",
   "mimetype": "text/x-ocaml",
   "name": "OCaml",
   "nbconverter_exporter": null,
   "pygments_lexer": "OCaml",
   "version": "4.05.0"
  }
 },
 "nbformat": 4,
 "nbformat_minor": 2
}
