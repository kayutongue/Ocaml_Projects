{
 "cells": [
  {
   "cell_type": "code",
   "execution_count": 5,
   "metadata": {},
   "outputs": [
    {
     "data": {
      "text/plain": [
       "val append : 'a list -> 'a list -> 'a list = <fun>\n"
      ]
     },
     "execution_count": 5,
     "metadata": {},
     "output_type": "execute_result"
    },
    {
     "data": {
      "text/plain": [
       "val test1 : bool = true\n"
      ]
     },
     "execution_count": 5,
     "metadata": {},
     "output_type": "execute_result"
    },
    {
     "data": {
      "text/plain": [
       "val test2 : bool = true\n"
      ]
     },
     "execution_count": 5,
     "metadata": {},
     "output_type": "execute_result"
    },
    {
     "data": {
      "text/plain": [
       "val test3 : bool = true\n"
      ]
     },
     "execution_count": 5,
     "metadata": {},
     "output_type": "execute_result"
    },
    {
     "data": {
      "text/plain": [
       "val test4 : bool = true\n"
      ]
     },
     "execution_count": 5,
     "metadata": {},
     "output_type": "execute_result"
    },
    {
     "data": {
      "text/plain": [
       "val test5 : bool = true\n"
      ]
     },
     "execution_count": 5,
     "metadata": {},
     "output_type": "execute_result"
    }
   ],
   "source": [
    "(* 目的: lst1 と lst2 を受け取り、それらを結合したリストを返す *)\n",
    "(* append : 'a list -> a' list -> a' list *)\n",
    "let rec append lst1 lst2 = match lst1 with\n",
    "   [] -> lst2\n",
    "  | first :: rest -> first :: (append rest lst2) (* append rest lst2 *)\n",
    "\n",
    "(* テスト *)\n",
    "let test1 = append [] [] = []\n",
    "let test2 = append [] [1; 2] = [1; 2]\n",
    "let test3 = append [1; 2] [] = [1; 2]\n",
    "let test4 = append [1; 2] [3; 4] = [1; 2; 3; 4]\n",
    "let test5 = append [\"a\"; \"b\"; \"c\"; \"d\"; \"e\"] [\"f\"; \"g\"] = [\"a\"; \"b\"; \"c\"; \"d\"; \"e\"; \"f\"; \"g\"]"
   ]
  },
  {
   "cell_type": "code",
   "execution_count": 6,
   "metadata": {},
   "outputs": [
    {
     "data": {
      "text/plain": [
       "- : int list = [1; 2; 3; 4]\n"
      ]
     },
     "execution_count": 6,
     "metadata": {},
     "output_type": "execute_result"
    }
   ],
   "source": [
    "[1; 2] @ [3; 4] "
   ]
  },
  {
   "cell_type": "code",
   "execution_count": 12,
   "metadata": {},
   "outputs": [
    {
     "data": {
      "text/plain": [
       "val merge : 'a list -> 'a list -> 'a list = <fun>\n"
      ]
     },
     "execution_count": 12,
     "metadata": {},
     "output_type": "execute_result"
    }
   ],
   "source": [
    "(* 目的: 昇順に並んでいるリスト lst1 と lst2 をマージする *)\n",
    "(* merge : int list -> int list -> int list *)\n",
    "let rec merge lst1 lst2 = match (lst1, lst2) with\n",
    "    ([], []) -> []\n",
    "  | ([], first2 :: rest2) -> lst2 (* merge lst1 rest2 *)\n",
    "  | (first1 :: rest1, []) -> lst1 (* merge rest1 lst2 *)\n",
    "  | (first1 :: rest1, first2 :: rest2) -> if first1 < first2\n",
    "                                          then first1 :: merge rest1 lst2 (* merge lst1 rest2, merge rest1 lst2, merge rest1 rest2 *)\n",
    "                                          else first2 :: merge lst1 rest2 (* merge lst1 rest2, merge rest1 lst2, merge rest1 rest2 *)"
   ]
  },
  {
   "cell_type": "code",
   "execution_count": 13,
   "metadata": {},
   "outputs": [
    {
     "data": {
      "text/plain": [
       "val test1 : bool = true\n"
      ]
     },
     "execution_count": 13,
     "metadata": {},
     "output_type": "execute_result"
    },
    {
     "data": {
      "text/plain": [
       "val test2 : bool = true\n"
      ]
     },
     "execution_count": 13,
     "metadata": {},
     "output_type": "execute_result"
    },
    {
     "data": {
      "text/plain": [
       "val test3 : bool = true\n"
      ]
     },
     "execution_count": 13,
     "metadata": {},
     "output_type": "execute_result"
    },
    {
     "data": {
      "text/plain": [
       "val test4 : bool = true\n"
      ]
     },
     "execution_count": 13,
     "metadata": {},
     "output_type": "execute_result"
    },
    {
     "data": {
      "text/plain": [
       "val test5 : bool = true\n"
      ]
     },
     "execution_count": 13,
     "metadata": {},
     "output_type": "execute_result"
    },
    {
     "data": {
      "text/plain": [
       "val test6 : bool = true\n"
      ]
     },
     "execution_count": 13,
     "metadata": {},
     "output_type": "execute_result"
    }
   ],
   "source": [
    "(* テスト *)\n",
    "let test1 = merge [] [] = []\n",
    "let test2 = merge [] [1; 2] = [1; 2]\n",
    "let test3 = merge [1; 2] [] = [1; 2]\n",
    "let test4 = merge [1; 3] [2; 4] = [1; 2; 3; 4]\n",
    "let test5 = merge [2; 4] [1; 3] = [1; 2; 3; 4]\n",
    "let test6 = merge [1; 4] [1; 3] = [1; 1; 3; 4]"
   ]
  },
  {
   "cell_type": "markdown",
   "metadata": {},
   "source": [
    "### Q 10.9"
   ]
  },
  {
   "cell_type": "code",
   "execution_count": 16,
   "metadata": {},
   "outputs": [
    {
     "data": {
      "text/plain": [
       "val equal_length : 'a list -> 'b list -> bool = <fun>\n"
      ]
     },
     "execution_count": 16,
     "metadata": {},
     "output_type": "execute_result"
    },
    {
     "data": {
      "text/plain": [
       "val test1 : bool = true\n"
      ]
     },
     "execution_count": 16,
     "metadata": {},
     "output_type": "execute_result"
    },
    {
     "data": {
      "text/plain": [
       "val test2 : bool = true\n"
      ]
     },
     "execution_count": 16,
     "metadata": {},
     "output_type": "execute_result"
    },
    {
     "data": {
      "text/plain": [
       "val test3 : bool = true\n"
      ]
     },
     "execution_count": 16,
     "metadata": {},
     "output_type": "execute_result"
    },
    {
     "data": {
      "text/plain": [
       "val test4 : bool = true\n"
      ]
     },
     "execution_count": 16,
     "metadata": {},
     "output_type": "execute_result"
    },
    {
     "data": {
      "text/plain": [
       "val test5 : bool = true\n"
      ]
     },
     "execution_count": 16,
     "metadata": {},
     "output_type": "execute_result"
    }
   ],
   "source": [
    "(* 目的: 二つのリストを受け取り、それらの長さが同じかどうか判定する *)\n",
    "(* equal_length : a' list -> a' list -> bool *)\n",
    "let rec equal_length lst1 lst2 = match (lst1, lst2) with\n",
    "   ([], []) -> true\n",
    "  | ([], first2 :: rest2) -> false\n",
    "  | (first1 :: rest1, []) -> false\n",
    "  | (first1 :: rest1, first2 :: rest2) -> equal_length rest1 rest2\n",
    "\n",
    "\n",
    "(* テスト *)\n",
    "let test1 = equal_length [] [] = true\n",
    "let test2 = equal_length [] [1; 2] = false\n",
    "let test3 = equal_length [1; 2] [] = false\n",
    "let test4 = equal_length [1; 2] [3; 4] = true\n",
    "let test5 = equal_length [1; 2; 3] [3; 4] = false"
   ]
  }
 ],
 "metadata": {
  "kernelspec": {
   "display_name": "OCaml 4.05.0",
   "language": "OCaml",
   "name": "ocaml-jupyter"
  },
  "language_info": {
   "codemirror_mode": "text/x-ocaml",
   "file_extension": ".ml",
   "mimetype": "text/x-ocaml",
   "name": "OCaml",
   "nbconverter_exporter": null,
   "pygments_lexer": "OCaml",
   "version": "4.05.0"
  }
 },
 "nbformat": 4,
 "nbformat_minor": 2
}
