{
 "cells": [
  {
   "cell_type": "code",
   "execution_count": 2,
   "metadata": {
    "scrolled": true
   },
   "outputs": [
    {
     "name": "stdout",
     "output_type": "stream",
     "text": [
      "type ekimei_t = {\n",
      "  kanji : string;\n",
      "  kana : string;\n",
      "  romaji : string;\n",
      "  shozoku : string;\n",
      "}\n",
      "type ekikan_t = {\n",
      "  kiten : string;\n",
      "  shuten : string;\n",
      "  keiyu : string;\n",
      "  kyori : float;\n",
      "  jikan : int;\n",
      "}\n",
      "val global_ekimei_list : ekimei_t list =\n",
      "  [{kanji = \"代々木上原\"; kana = \"よよぎうえはら\";\n",
      "    romaji = \"yoyogiuehara\"; shozoku = \"千代田線\"};\n",
      "   {kanji = \"代々木公園\"; kana = \"よよぎこうえん\";\n",
      "    romaji = \"yoyogikouen\"; shozoku = \"千代田線\"};\n",
      "   {kanji = \"明治神宮前\"; kana = \"めいじじんぐうまえ\";\n",
      "    romaji = \"meijijinguumae\"; shozoku = \"千代田線\"};\n",
      "   {kanji = \"表参道\"; kana = \"おもてさんどう\";\n",
      "    romaji = \"omotesandou\"; shozoku = \"千代田線\"};\n",
      "   {kanji = \"乃木坂\"; kana = \"のぎざか\"; romaji = \"nogizaka\";\n",
      "    shozoku = \"千代田線\"};\n",
      "   {kanji = \"赤坂\"; kana = \"あかさか\"; romaji = \"akasaka\";\n",
      "    shozoku = \"千代田線\"};\n",
      "   {kanji = \"国会議事堂前\"; kana = \"こっかいぎじどうまえ\";\n",
      "    romaji = \"kokkaigijidoumae\"; shozoku = \"千代田線\"};\n",
      "   {kanji = \"霞ヶ関\"; kana = \"かすみがせき\";\n",
      "    romaji = \"kasumigaseki\"; shozoku = \"千代田線\"};\n",
      "   {kanji = \"日比谷\"; kana = \"ひびや\"; romaji = \"hibiya\";\n",
      "    shozoku = \"千代田線\"};\n",
      "   {kanji = \"二重橋前\"; kana = \"にじゅうばしまえ\";\n",
      "    romaji = \"nijuubasimae\"; shozoku = \"千代田線\"};\n",
      "   {kanji = \"大手町\"; kana = \"おおてまち\"; romaji = \"otemachi\";\n",
      "    shozoku = \"千代田線\"};\n",
      "   {kanji = \"新御茶ノ水\"; kana = \"しんおちゃのみず\";\n",
      "    romaji = \"shin-ochanomizu\"; shozoku = \"千代田線\"};\n",
      "   {kanji = \"湯島\"; kana = \"ゆしま\"; romaji = \"yushima\";\n",
      "    shozoku = \"千代田線\"};\n",
      "   {kanji = \"根津\"; kana = \"ねづ\"; romaji = \"nedu\";\n",
      "    shozoku = \"千代田線\"};\n",
      "   {kanji = \"千駄木\"; kana = \"せんだぎ\"; romaji = \"sendagi\";\n",
      "    shozoku = \"千代田線\"};\n",
      "   {kanji = \"西日暮里\"; kana = \"にしにっぽり\";\n",
      "    romaji = \"nishinippori\"; shozoku = \"千代田線\"};\n",
      "   {kanji = \"町屋\"; kana = \"まちや\"; romaji = \"machiya\";\n",
      "    shozoku = \"千代田線\"};\n",
      "   {kanji = \"北千住\"; kana = \"きたせんじゅ\"; romaji = \"kitasenjyu\";\n",
      "    shozoku = \"千代田線\"};\n",
      "   {kanji = \"綾瀬\"; kana = \"あやせ\"; romaji = \"ayase\";\n",
      "    shozoku = \"千代田線\"};\n",
      "   {kanji = \"北綾瀬\"; kana = \"きたあやせ\"; romaji = \"kitaayase\";\n",
      "    shozoku = \"千代田線\"};\n",
      "   {kanji = \"浅草\"; kana = \"あさくさ\"; romaji = \"asakusa\";\n",
      "    shozoku = \"銀座線\"};\n",
      "   {kanji = \"田原町\"; kana = \"たわらまち\"; romaji = \"tawaramachi\";\n",
      "    shozoku = \"銀座線\"};\n",
      "   {kanji = \"稲荷町\"; kana = \"いなりちょう\"; romaji = \"inaricho\";\n",
      "    shozoku = \"銀座線\"};\n",
      "   {kanji = \"上野\"; kana = \"うえの\"; romaji = \"ueno\";\n",
      "    shozoku = \"銀座線\"};\n",
      "   {kanji = \"上野広小路\"; kana = \"うえのひろこうじ\";\n",
      "    romaji = \"uenohirokoji\"; shozoku = \"銀座線\"};\n",
      "   {kanji = \"末広町\"; kana = \"すえひろちょう\";\n",
      "    romaji = \"suehirocho\"; shozoku = \"銀座線\"};\n",
      "   {kanji = \"神田\"; kana = \"かんだ\"; romaji = \"kanda\";\n",
      "    shozoku = \"銀座線\"};\n",
      "   {kanji = \"三越前\"; kana = \"みつこしまえ\";\n",
      "    romaji = \"mitsukoshimae\"; shozoku = \"銀座線\"};\n",
      "   {kanji = \"日本橋\"; kana = \"にほんばし\"; romaji = \"nihonbashi\";\n",
      "    shozoku = \"銀座線\"};\n",
      "   {kanji = \"京橋\"; kana = \"きょうばし\"; romaji = \"kyobashi\";\n",
      "    shozoku = \"銀座線\"};\n",
      "   {kanji = \"銀座\"; kana = \"ぎんざ\"; romaji = \"ginza\";\n",
      "    shozoku = \"銀座線\"};\n",
      "   {kanji = \"新橋\"; kana = \"しんばし\"; romaji = \"shinbashi\";\n",
      "    shozoku = \"銀座線\"};\n",
      "   {kanji = \"虎ノ門\"; kana = \"とらのもん\"; romaji = \"toranomon\";\n",
      "    shozoku = \"銀座線\"};\n",
      "   {kanji = \"溜池山王\"; kana = \"ためいけさんのう\";\n",
      "    romaji = \"tameikesannou\"; shozoku = \"銀座線\"};\n",
      "   {kanji = \"赤坂見附\"; kana = \"あかさかみつけ\";\n",
      "    romaji = \"akasakamitsuke\"; shozoku = \"銀座線\"};\n",
      "   {kanji = \"青山一丁目\"; kana = \"あおやまいっちょうめ\";\n",
      "    romaji = \"aoyamaicchome\"; shozoku = \"銀座線\"};\n",
      "   {kanji = \"外苑前\"; kana = \"がいえんまえ\"; romaji = \"gaienmae\";\n",
      "    shozoku = \"銀座線\"};\n",
      "   {kanji = \"表参道\"; kana = \"おもてさんどう\";\n",
      "    romaji = \"omotesando\"; shozoku = \"銀座線\"};\n",
      "   {kanji = \"渋谷\"; kana = \"しぶや\"; romaji = \"shibuya\";\n",
      "    shozoku = \"銀座線\"};\n",
      "   {kanji = \"渋谷\"; kana = \"しぶや\"; romaji = \"shibuya\";\n",
      "    shozoku = \"半蔵門線\"};\n",
      "   {kanji = \"表参道\"; kana = \"おもてさんどう\";\n",
      "    romaji = \"omotesandou\"; shozoku = \"半蔵門線\"};\n",
      "   {kanji = \"青山一丁目\"; kana = \"あおやまいっちょうめ\";\n",
      "    romaji = \"aoyama-itchome\"; shozoku = \"半蔵門線\"};\n",
      "   {kanji = \"永田町\"; kana = \"ながたちょう\"; romaji = \"nagatacho\";\n",
      "    shozoku = \"半蔵門線\"};\n",
      "   {kanji = \"半蔵門\"; kana = \"はんぞうもん\"; romaji = \"hanzomon\";\n",
      "    shozoku = \"半蔵門線\"};\n",
      "   {kanji = \"九段下\"; kana = \"くだんした\"; romaji = \"kudanshita\";\n",
      "    shozoku = \"半蔵門線\"};\n",
      "   {kanji = \"神保町\"; kana = \"じんぼうちょう\"; romaji = \"jinbocho\";\n",
      "    shozoku = \"半蔵門線\"};\n",
      "   {kanji = \"大手町\"; kana = \"おおてまち\"; romaji = \"otemachi\";\n",
      "    shozoku = \"半蔵門線\"};\n",
      "   {kanji = \"三越前\"; kana = \"みつこしまえ\";\n",
      "    romaji = \"mitsukoshimae\"; shozoku = \"半蔵門線\"};\n",
      "   {kanji = \"水天宮前\"; kana = \"すいてんぐうまえ\";\n",
      "    romaji = \"suitengumae\"; shozoku = \"半蔵門線\"};\n",
      "   {kanji = \"清澄白河\"; kana = \"きよすみしらかわ\";\n",
      "    romaji = \"kiyosumi-shirakawa\"; shozoku = \"半蔵門線\"};\n",
      "   {kanji = \"住吉\"; kana = \"すみよし\"; romaji = \"sumiyoshi\";\n",
      "    shozoku = \"半蔵門線\"};\n",
      "   {kanji = \"錦糸町\"; kana = \"きんしちょう\"; romaji = \"kinshicho\";\n",
      "    shozoku = \"半蔵門線\"};\n",
      "   {kanji = \"押上\"; kana = \"おしあげ\"; romaji = \"oshiage\";\n",
      "    shozoku = \"半蔵門線\"};\n",
      "   {kanji = \"中目黒\"; kana = \"なかめぐろ\"; romaji = \"nakameguro\";\n",
      "    shozoku = \"日比谷線\"};\n",
      "   {kanji = \"恵比寿\"; kana = \"えびす\"; romaji = \"ebisu\";\n",
      "    shozoku = \"日比谷線\"};\n",
      "   {kanji = \"広尾\"; kana = \"ひろお\"; romaji = \"hiro\";\n",
      "    shozoku = \"日比谷線\"};\n",
      "   {kanji = \"六本木\"; kana = \"ろっぽんぎ\"; romaji = \"roppongi\";\n",
      "    shozoku = \"日比谷線\"};\n",
      "   {kanji = \"神谷町\"; kana = \"かみやちょう\"; romaji = \"kamiyacho\";\n",
      "    shozoku = \"日比谷線\"};\n",
      "   {kanji = \"霞ヶ関\"; kana = \"かすみがせき\";\n",
      "    romaji = \"kasumigaseki\"; shozoku = \"日比谷線\"};\n",
      "   {kanji = \"日比谷\"; kana = \"ひびや\"; romaji = \"hibiya\";\n",
      "    shozoku = ...};\n",
      "   ...]\n",
      "val global_ekikan_list : ekikan_t list =\n",
      "  [{kiten = \"代々木上原\"; shuten = \"代々木公園\";\n",
      "    keiyu = \"千代田線\"; kyori = 1.; jikan = 2};\n",
      "   {kiten = \"代々木公園\"; shuten = \"明治神宮前\";\n",
      "    keiyu = \"千代田線\"; kyori = 1.2; jikan = 2};\n",
      "   {kiten = \"明治神宮前\"; shuten = \"表参道\"; keiyu = \"千代田線\";\n",
      "    kyori = 0.9; jikan = 2};\n",
      "   {kiten = \"表参道\"; shuten = \"乃木坂\"; keiyu = \"千代田線\";\n",
      "    kyori = 1.4; jikan = 3};\n",
      "   {kiten = \"乃木坂\"; shuten = \"赤坂\"; keiyu = \"千代田線\";\n",
      "    kyori = 1.1; jikan = 2};\n",
      "   {kiten = \"赤坂\"; shuten = \"国会議事堂前\"; keiyu = \"千代田線\";\n",
      "    kyori = 0.8; jikan = 1};\n",
      "   {kiten = \"国会議事堂前\"; shuten = \"霞ヶ関\";\n",
      "    keiyu = \"千代田線\"; kyori = 0.7; jikan = 1};\n",
      "   {kiten = \"霞ヶ関\"; shuten = \"日比谷\"; keiyu = \"千代田線\";\n",
      "    kyori = 1.2; jikan = 2};\n",
      "   {kiten = \"日比谷\"; shuten = \"二重橋前\"; keiyu = \"千代田線\";\n",
      "    kyori = 0.7; jikan = 1};\n",
      "   {kiten = \"二重橋前\"; shuten = \"大手町\"; keiyu = \"千代田線\";\n",
      "    kyori = 0.7; jikan = 1};\n",
      "   {kiten = \"大手町\"; shuten = \"新御茶ノ水\"; keiyu = \"千代田線\";\n",
      "    kyori = 1.3; jikan = 2};\n",
      "   {kiten = \"新御茶ノ水\"; shuten = \"湯島\"; keiyu = \"千代田線\";\n",
      "    kyori = 1.2; jikan = 2};\n",
      "   {kiten = \"湯島\"; shuten = \"根津\"; keiyu = \"千代田線\"; kyori = 1.2;\n",
      "    jikan = 2};\n",
      "   {kiten = \"根津\"; shuten = \"千駄木\"; keiyu = \"千代田線\";\n",
      "    kyori = 1.; jikan = 2};\n",
      "   {kiten = \"千駄木\"; shuten = \"西日暮里\"; keiyu = \"千代田線\";\n",
      "    kyori = 0.9; jikan = 1};\n",
      "   {kiten = \"西日暮里\"; shuten = \"町屋\"; keiyu = \"千代田線\";\n",
      "    kyori = 1.7; jikan = 2};\n",
      "   {kiten = \"町屋\"; shuten = \"北千住\"; keiyu = \"千代田線\";\n",
      "    kyori = 2.6; jikan = 3};\n",
      "   {kiten = \"北千住\"; shuten = \"綾瀬\"; keiyu = \"千代田線\";\n",
      "    kyori = 2.5; jikan = 3};\n",
      "   {kiten = \"綾瀬\"; shuten = \"北綾瀬\"; keiyu = \"千代田線\";\n",
      "    kyori = 2.1; jikan = 4};\n",
      "   {kiten = \"浅草\"; shuten = \"田原町\"; keiyu = \"銀座線\"; kyori = 0.8;\n",
      "    jikan = 2};\n",
      "   {kiten = \"田原町\"; shuten = \"稲荷町\"; keiyu = \"銀座線\";\n",
      "    kyori = 0.7; jikan = 1};\n",
      "   {kiten = \"稲荷町\"; shuten = \"上野\"; keiyu = \"銀座線\"; kyori = 0.7;\n",
      "    jikan = 2};\n",
      "   {kiten = \"上野\"; shuten = \"上野広小路\"; keiyu = \"銀座線\";\n",
      "    kyori = 0.5; jikan = 2};\n",
      "   {kiten = \"上野広小路\"; shuten = \"末広町\"; keiyu = \"銀座線\";\n",
      "    kyori = 0.6; jikan = 1};\n",
      "   {kiten = \"末広町\"; shuten = \"神田\"; keiyu = \"銀座線\"; kyori = 1.1;\n",
      "    jikan = 2};\n",
      "   {kiten = \"神田\"; shuten = \"三越前\"; keiyu = \"銀座線\"; kyori = 0.7;\n",
      "    jikan = 1};\n",
      "   {kiten = \"三越前\"; shuten = \"日本橋\"; keiyu = \"銀座線\";\n",
      "    kyori = 0.6; jikan = 2};\n",
      "   {kiten = \"日本橋\"; shuten = \"京橋\"; keiyu = \"銀座線\"; kyori = 0.7;\n",
      "    jikan = 2};\n",
      "   {kiten = \"京橋\"; shuten = \"銀座\"; keiyu = \"銀座線\"; kyori = 0.7;\n",
      "    jikan = 1};\n",
      "   {kiten = \"銀座\"; shuten = \"新橋\"; keiyu = \"銀座線\"; kyori = 0.9;\n",
      "    jikan = 2};\n",
      "   {kiten = \"新橋\"; shuten = \"虎ノ門\"; keiyu = \"銀座線\"; kyori = 0.8;\n",
      "    jikan = 2};\n",
      "   {kiten = \"虎ノ門\"; shuten = \"溜池山王\"; keiyu = \"銀座線\";\n",
      "    kyori = 0.6; jikan = 2};\n",
      "   {kiten = \"溜池山王\"; shuten = \"赤坂見附\"; keiyu = \"銀座線\";\n",
      "    kyori = 0.9; jikan = 2};\n",
      "   {kiten = \"赤坂見附\"; shuten = \"青山一丁目\"; keiyu = \"銀座線\";\n",
      "    kyori = 1.3; jikan = 2};\n",
      "   {kiten = \"青山一丁目\"; shuten = \"外苑前\"; keiyu = \"銀座線\";\n",
      "    kyori = 0.7; jikan = 2};\n",
      "   {kiten = \"外苑前\"; shuten = \"表参道\"; keiyu = \"銀座線\";\n",
      "    kyori = 0.7; jikan = 1};\n",
      "   {kiten = \"表参道\"; shuten = \"渋谷\"; keiyu = \"銀座線\"; kyori = 1.3;\n",
      "    jikan = 1};\n",
      "   {kiten = \"渋谷\"; shuten = \"表参道\"; keiyu = \"半蔵門線\";\n",
      "    kyori = 1.3; jikan = 2};\n",
      "   {kiten = \"表参道\"; shuten = \"青山一丁目\"; keiyu = \"半蔵門線\";\n"
     ]
    },
    {
     "name": "stdout",
     "output_type": "stream",
     "text": [
      "    kyori = 1.4; jikan = 2};\n",
      "   {kiten = \"青山一丁目\"; shuten = \"永田町\"; keiyu = \"半蔵門線\";\n",
      "    kyori = 1.3; jikan = 2};\n",
      "   {kiten = \"永田町\"; shuten = \"半蔵門\"; keiyu = \"半蔵門線\";\n",
      "    kyori = 1.; jikan = 2};\n",
      "   {kiten = \"半蔵門\"; shuten = \"九段下\"; keiyu = \"半蔵門線\";\n",
      "    kyori = 1.6; jikan = 2};\n",
      "   {kiten = \"九段下\"; shuten = \"神保町\"; keiyu = \"半蔵門線\";\n",
      "    kyori = 0.4; jikan = 1};\n",
      "   {kiten = \"神保町\"; shuten = \"大手町\"; keiyu = \"半蔵門線\";\n",
      "    kyori = 1.7; jikan = 3};\n",
      "   {kiten = \"大手町\"; shuten = \"三越前\"; keiyu = \"半蔵門線\";\n",
      "    kyori = 0.7; jikan = 1};\n",
      "   {kiten = \"三越前\"; shuten = \"水天宮前\"; keiyu = \"半蔵門線\";\n",
      "    kyori = 1.3; jikan = 2};\n",
      "   {kiten = \"水天宮前\"; shuten = \"清澄白河\"; keiyu = \"半蔵門線\";\n",
      "    kyori = 1.7; jikan = 3};\n",
      "   {kiten = \"清澄白河\"; shuten = \"住吉\"; keiyu = \"半蔵門線\";\n",
      "    kyori = 1.9; jikan = 3};\n",
      "   {kiten = \"住吉\"; shuten = \"錦糸町\"; keiyu = \"半蔵門線\";\n",
      "    kyori = 1.; jikan = 2};\n",
      "   {kiten = \"錦糸町\"; shuten = \"押上\"; keiyu = \"半蔵門線\";\n",
      "    kyori = 1.4; jikan = ...};\n",
      "   ...]\n"
     ]
    }
   ],
   "source": [
    "#use \"data_definition/metro_data.ml\"\n"
   ]
  },
  {
   "cell_type": "code",
   "execution_count": 35,
   "metadata": {},
   "outputs": [
    {
     "data": {
      "text/plain": [
       "val romaji_to_kanji : string -> ekimei_t list -> string = <fun>\n"
      ]
     },
     "execution_count": 35,
     "metadata": {},
     "output_type": "execute_result"
    },
    {
     "data": {
      "text/plain": [
       "val test1 : bool = true\n"
      ]
     },
     "execution_count": 35,
     "metadata": {},
     "output_type": "execute_result"
    },
    {
     "data": {
      "text/plain": [
       "val test2 : bool = true\n"
      ]
     },
     "execution_count": 35,
     "metadata": {},
     "output_type": "execute_result"
    }
   ],
   "source": [
    "(* 目的: ローマ字表記の駅名とメトロの駅名リストを受け取ったら、その駅名の漢字表記を文字列で返す *)\n",
    "(* romaji_to_kanji : string -> ekimei_t list -> string *)\n",
    "let rec romaji_to_kanji ekimei0 global_ekimei_list = match global_ekimei_list with\n",
    "   [] -> \"\"\n",
    "  | {kanji = k; kana = n; romaji = r; shozoku = s} :: rest\n",
    "      -> if r = ekimei0\n",
    "         then k\n",
    "         else romaji_to_kanji ekimei0 rest (* romaji_to_kanji rest *)\n",
    "\n",
    "(* テスト *)\n",
    "let test1 = romaji_to_kanji \"meguro\" [] = \"\"\n",
    "let test2 = romaji_to_kanji \"omotesandou\" global_ekimei_list = \"表参道\""
   ]
  },
  {
   "cell_type": "code",
   "execution_count": 29,
   "metadata": {
    "scrolled": true
   },
   "outputs": [
    {
     "data": {
      "text/plain": [
       "val get_ekikan_kyori : string -> string -> ekikan_t list -> float = <fun>\n"
      ]
     },
     "execution_count": 29,
     "metadata": {},
     "output_type": "execute_result"
    },
    {
     "data": {
      "text/plain": [
       "val test1 : bool = true\n"
      ]
     },
     "execution_count": 29,
     "metadata": {},
     "output_type": "execute_result"
    },
    {
     "data": {
      "text/plain": [
       "val test2 : bool = true\n"
      ]
     },
     "execution_count": 29,
     "metadata": {},
     "output_type": "execute_result"
    },
    {
     "data": {
      "text/plain": [
       "val test3 : bool = true\n"
      ]
     },
     "execution_count": 29,
     "metadata": {},
     "output_type": "execute_result"
    },
    {
     "data": {
      "text/plain": [
       "val test4 : bool = true\n"
      ]
     },
     "execution_count": 29,
     "metadata": {},
     "output_type": "execute_result"
    }
   ],
   "source": [
    "(* 目的: ２つの駅名と駅間リストを受け取ったら、２駅間の距離を返す *)\n",
    "(* get_ekikan_kyori : string -> string -> ekikan_t list -> float *)\n",
    "let rec get_ekikan_kyori ekimei0 ekimei1 global_ekimei_list = match global_ekimei_list with\n",
    "   [] -> infinity\n",
    "  | {kiten = k; shuten = s; keiyu = y; kyori = d; jikan = t} :: rest\n",
    "      -> if ((k = ekimei0) || (k = ekimei1)) && ((s = ekimei0) || (s = ekimei1))\n",
    "         then d\n",
    "         else get_ekikan_kyori ekimei0 ekimei1 rest\n",
    "\n",
    "(* テスト *)\n",
    "let test1 = get_ekikan_kyori \"京橋\" \"銀座\" global_ekikan_list = 0.7\n",
    "let test2 = get_ekikan_kyori \"溜池山王\" \"虎ノ門\" global_ekikan_list = 0.6\n",
    "let test3 = get_ekikan_kyori \"赤坂見附\" \"目黒\" global_ekikan_list = infinity\n",
    "let test4 = get_ekikan_kyori \"虎ノ門\" \"新橋\" global_ekikan_list = 0.8"
   ]
  },
  {
   "cell_type": "code",
   "execution_count": 49,
   "metadata": {},
   "outputs": [
    {
     "data": {
      "text/plain": [
       "val kyori_wo_hyouji : string -> string -> string = <fun>\n"
      ]
     },
     "execution_count": 49,
     "metadata": {},
     "output_type": "execute_result"
    },
    {
     "data": {
      "text/plain": [
       "val test1 : bool = true\n"
      ]
     },
     "execution_count": 49,
     "metadata": {},
     "output_type": "execute_result"
    },
    {
     "data": {
      "text/plain": [
       "val test2 : bool = true\n"
      ]
     },
     "execution_count": 49,
     "metadata": {},
     "output_type": "execute_result"
    },
    {
     "data": {
      "text/plain": [
       "val test3 : bool = true\n"
      ]
     },
     "execution_count": 49,
     "metadata": {},
     "output_type": "execute_result"
    },
    {
     "data": {
      "text/plain": [
       "val test4 : bool = true\n"
      ]
     },
     "execution_count": 49,
     "metadata": {},
     "output_type": "execute_result"
    }
   ],
   "source": [
    "(* 目的: ローマ字の駅名を二つ受け取ったら、その間の距離を調べ、直接繋がっている場合は、「A駅からB駅までは◯◯kmです」という文字列を返し、\n",
    "　　繋がっていない場合は「A駅とB駅は繋がっていません」という文字列を返し、そもそも駅名が存在しない場合は「〜という駅は存在しません」という\n",
    "  　文字列を返す *)\n",
    "(* kyori_wo_hyouji : string -> string -> string *)\n",
    "let kyori_wo_hyouji ekimei0 ekimei1 =\n",
    "    let ekimei0_kanji = (romaji_to_kanji ekimei0 global_ekimei_list) in\n",
    "    if (ekimei0_kanji = \"\") then ekimei0 ^ \"という駅は存在しません\"\n",
    "    else let ekimei1_kanji = (romaji_to_kanji ekimei1 global_ekimei_list) in\n",
    "         if (ekimei1_kanji = \"\") then ekimei1 ^ \"という駅は存在しません\"\n",
    "         else let kyori = (get_ekikan_kyori ekimei0_kanji ekimei1_kanji global_ekikan_list) in\n",
    "              if kyori = infinity\n",
    "              then ekimei0_kanji ^ \"駅と\" ^ ekimei1_kanji ^ \"駅は繋がっていません\"\n",
    "              else ekimei0_kanji ^ \"駅から\" ^ ekimei1_kanji ^ \"駅までは\" ^ (string_of_float kyori) ^ \"kmです\"\n",
    "\n",
    "(* テスト *)\n",
    "let test1 = kyori_wo_hyouji \"kyobashi\" \"ginza\" = \"京橋駅から銀座駅までは0.7kmです\"\n",
    "let test2 = kyori_wo_hyouji \"tameikesannou\" \"toranomon\" = \"溜池山王駅から虎ノ門駅までは0.6kmです\"\n",
    "let test3 = kyori_wo_hyouji \"akasakamitsuke\" \"ootemachi\" = \"ootemachiという駅は存在しません\"\n",
    "let test4 = kyori_wo_hyouji \"kyobashi\" \"shinbashi\" = \"京橋駅と新橋駅は繋がっていません\""
   ]
  },
  {
   "cell_type": "code",
   "execution_count": 3,
   "metadata": {},
   "outputs": [
    {
     "data": {
      "text/plain": [
       "val hyoji : ekimei_t -> string = <fun>\n"
      ]
     },
     "execution_count": 3,
     "metadata": {},
     "output_type": "execute_result"
    },
    {
     "data": {
      "text/plain": [
       "val test1 : bool = true\n"
      ]
     },
     "execution_count": 3,
     "metadata": {},
     "output_type": "execute_result"
    },
    {
     "data": {
      "text/plain": [
       "val test2 : bool = true\n"
      ]
     },
     "execution_count": 3,
     "metadata": {},
     "output_type": "execute_result"
    },
    {
     "data": {
      "text/plain": [
       "val test3 : bool = true\n"
      ]
     },
     "execution_count": 3,
     "metadata": {},
     "output_type": "execute_result"
    }
   ],
   "source": [
    "(* 目的: ekimei_tの型のデータを受け取ったら、「路線名, 駅名（かな）」に整形して文字列を返す関数 *)\n",
    "(* hyoji : ekimei_t -> string *)\n",
    "let hyoji ekimei = match ekimei with\n",
    "  {kanji = k; kana = c; romaji = r; shozoku = s} -> s ^ \", \" ^ k ^ \"（\" ^ c ^ \"）\"\n",
    "  \n",
    "(* テスト *)\n",
    "let test1 = hyoji {kanji = \"茗荷谷\"; kana = \"みょうがだに\"; romaji = \"myogadani\"; shozoku = \"丸ノ内線\"} = \"丸ノ内線, 茗荷谷（みょうがだに）\"\n",
    "let test2 = hyoji {kanji = \"荻窪\"; kana = \"おぎくぼ\"; romaji = \"ogikubo\"; shozoku = \"中央線/丸ノ内線\"} = \"中央線/丸ノ内線, 荻窪（おぎくぼ）\"\n",
    "let test3 = hyoji {kanji = \"目黒\"; kana = \"めぐろ\"; romaji = \"meguro\"; shozoku = \"山手線\"} = \"山手線, 目黒（めぐろ）\""
   ]
  },
  {
   "cell_type": "code",
   "execution_count": null,
   "metadata": {},
   "outputs": [],
   "source": []
  }
 ],
 "metadata": {
  "kernelspec": {
   "display_name": "OCaml 4.05.0",
   "language": "OCaml",
   "name": "ocaml-jupyter"
  },
  "language_info": {
   "codemirror_mode": "text/x-ocaml",
   "file_extension": ".ml",
   "mimetype": "text/x-ocaml",
   "name": "OCaml",
   "nbconverter_exporter": null,
   "pygments_lexer": "OCaml",
   "version": "4.05.0"
  }
 },
 "nbformat": 4,
 "nbformat_minor": 2
}
