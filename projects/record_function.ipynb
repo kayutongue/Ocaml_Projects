{
 "cells": [
  {
   "cell_type": "markdown",
   "metadata": {},
   "source": [
    "## 型の定義が必要な構造データを含む関数定義のデザインレシピ\n",
    "\n",
    "### 1. 構造データの型の定義\n",
    "#### 1. 構造データの目的（何のデータを定義しているのか？）をヘッダ情報として書く\n",
    "#### 2. 各フィールドが何を意味するのかをコメントとして書く\n",
    "### 2. 関数の目的と関数の型、関数の枠をヘッダ情報として書く\n",
    "### 3. 関数の入出力の例と、テストプログラムを書く\n",
    "### 4. テンプレートを作成する\n",
    "### 5. 本体を実装し、テストする"
   ]
  },
  {
   "cell_type": "code",
   "execution_count": 19,
   "metadata": {},
   "outputs": [
    {
     "data": {
      "text/plain": [
       "type gakusei_t = { namae : string; tensuu : int; seiseki : string; }\n"
      ]
     },
     "execution_count": 19,
     "metadata": {},
     "output_type": "execute_result"
    }
   ],
   "source": [
    "(* 学生一人分のデータを表す型 *)\n",
    "type gakusei_t = {\n",
    "  namae : string;   (* 名前 *)\n",
    "  tensuu : int;     (* 点数 *)\n",
    "  seiseki : string; (* 成績 *)\n",
    "}"
   ]
  },
  {
   "cell_type": "code",
   "execution_count": 23,
   "metadata": {},
   "outputs": [
    {
     "data": {
      "text/plain": [
       "val hyouka : gakusei_t -> gakusei_t = <fun>\n"
      ]
     },
     "execution_count": 23,
     "metadata": {},
     "output_type": "execute_result"
    }
   ],
   "source": [
    "(* 目的: 学生のデータgakuseiを受け取り、成績のついたデータを返す *)\n",
    "(* hyouka : gakusei_t -> gakusei_t *)\n",
    "let hyouka gakusei = match gakusei with\n",
    "  {namae = n; tensuu = t; seiseki = s} ->\n",
    "    if t >= 80 then      {namae = n; tensuu = t; seiseki = \"A\"}\n",
    "    else if t >= 70 then {namae = n; tensuu = t; seiseki = \"B\"}\n",
    "    else if t >= 60 then {namae = n; tensuu = t; seiseki = \"C\"}\n",
    "    else                 {namae = n; tensuu = t; seiseki = \"D\"}"
   ]
  },
  {
   "cell_type": "code",
   "execution_count": 24,
   "metadata": {},
   "outputs": [
    {
     "data": {
      "text/plain": [
       "val test1 : bool = true\n"
      ]
     },
     "execution_count": 24,
     "metadata": {},
     "output_type": "execute_result"
    },
    {
     "data": {
      "text/plain": [
       "val test2 : bool = true\n"
      ]
     },
     "execution_count": 24,
     "metadata": {},
     "output_type": "execute_result"
    },
    {
     "data": {
      "text/plain": [
       "val test3 : bool = true\n"
      ]
     },
     "execution_count": 24,
     "metadata": {},
     "output_type": "execute_result"
    },
    {
     "data": {
      "text/plain": [
       "val test4 : bool = true\n"
      ]
     },
     "execution_count": 24,
     "metadata": {},
     "output_type": "execute_result"
    },
    {
     "data": {
      "text/plain": [
       "val test5 : bool = true\n"
      ]
     },
     "execution_count": 24,
     "metadata": {},
     "output_type": "execute_result"
    },
    {
     "data": {
      "text/plain": [
       "val test6 : bool = true\n"
      ]
     },
     "execution_count": 24,
     "metadata": {},
     "output_type": "execute_result"
    },
    {
     "data": {
      "text/plain": [
       "val test7 : bool = true\n"
      ]
     },
     "execution_count": 24,
     "metadata": {},
     "output_type": "execute_result"
    }
   ],
   "source": [
    "(* テスト *)\n",
    "let test1 = hyouka {namae = \"asai\"; tensuu = 90; seiseki = \"\"}\n",
    "          = {namae = \"asai\"; tensuu = 90; seiseki = \"A\"}\n",
    "let test2 = hyouka {namae = \"asai\"; tensuu = 80; seiseki = \"\"}\n",
    "          = {namae = \"asai\"; tensuu = 80; seiseki = \"A\"}\n",
    "let test3 = hyouka {namae = \"asai\"; tensuu = 75; seiseki = \"\"}\n",
    "          = {namae = \"asai\"; tensuu = 75; seiseki = \"B\"}\n",
    "let test4 = hyouka {namae = \"asai\"; tensuu = 70; seiseki = \"\"}\n",
    "          = {namae = \"asai\"; tensuu = 70; seiseki = \"B\"}\n",
    "let test5 = hyouka {namae = \"asai\"; tensuu = 65; seiseki = \"\"}\n",
    "          = {namae = \"asai\"; tensuu = 65; seiseki = \"C\"}\n",
    "let test6 = hyouka {namae = \"asai\"; tensuu = 60; seiseki = \"\"}\n",
    "          = {namae = \"asai\"; tensuu = 60; seiseki = \"C\"}\n",
    "let test7 = hyouka {namae = \"asai\"; tensuu = 55; seiseki = \"\"}\n",
    "          = {namae = \"asai\"; tensuu = 55; seiseki = \"D\"}"
   ]
  },
  {
   "cell_type": "markdown",
   "metadata": {},
   "source": [
    "## 練習問題"
   ]
  },
  {
   "cell_type": "code",
   "execution_count": 30,
   "metadata": {},
   "outputs": [
    {
     "data": {
      "text/plain": [
       "type person_t = {\n",
       "  name : string;\n",
       "  tall : float;\n",
       "  weight : float;\n",
       "  birthday : int;\n",
       "  blood : string;\n",
       "}\n"
      ]
     },
     "execution_count": 30,
     "metadata": {},
     "output_type": "execute_result"
    }
   ],
   "source": [
    "(* 個人の身体的特徴をまとめたデータ *)\n",
    "type person_t = {\n",
    "  name : string;  (* 名前 *)\n",
    "  tall : float;   (* 身長(m) *)\n",
    "  weight : float; (* 体重(kg) *)\n",
    "  birthday : int; (* 誕生日(月日) *)\n",
    "  blood : string; (* 血液型 *)\n",
    "}"
   ]
  },
  {
   "cell_type": "code",
   "execution_count": 33,
   "metadata": {},
   "outputs": [
    {
     "data": {
      "text/plain": [
       "val ketsueki_hyoji : person_t -> string = <fun>\n"
      ]
     },
     "execution_count": 33,
     "metadata": {},
     "output_type": "execute_result"
    }
   ],
   "source": [
    "(* 目的: パーソナルデータを受け取ったら、「◯◯さんの血液型は△です」という文字列を返す *)\n",
    "(* ketsueki_hyoji : person_t -> string *)\n",
    "let ketsueki_hyoji person = match person with\n",
    "  {name = n; tall = t; weight = w; birthday = d; blood = b} -> n ^ \"さんの血液型は\" ^ b ^ \"です\""
   ]
  },
  {
   "cell_type": "code",
   "execution_count": 36,
   "metadata": {},
   "outputs": [
    {
     "data": {
      "text/plain": [
       "val test1 : bool = true\n"
      ]
     },
     "execution_count": 36,
     "metadata": {},
     "output_type": "execute_result"
    },
    {
     "data": {
      "text/plain": [
       "val test1 : bool = true\n"
      ]
     },
     "execution_count": 36,
     "metadata": {},
     "output_type": "execute_result"
    },
    {
     "data": {
      "text/plain": [
       "val test1 : bool = true\n"
      ]
     },
     "execution_count": 36,
     "metadata": {},
     "output_type": "execute_result"
    }
   ],
   "source": [
    "(* テスト *)\n",
    "let test1 = ketsueki_hyoji {name = \"粥川\"; tall = 1.7; weight = 77.2; birthday = 1113; blood = \"B\"} = \"粥川さんの血液型はBです\"\n",
    "let test1 = ketsueki_hyoji {name = \"坂庭\"; tall = 1.74; weight = 74.; birthday = 623; blood = \"AB\"} = \"坂庭さんの血液型はABです\"\n",
    "let test1 = ketsueki_hyoji {name = \"絵里子\"; tall = 1.58; weight = 48.3; birthday = 123; blood = \"O\"} = \"絵里子さんの血液型はOです\""
   ]
  }
 ],
 "metadata": {
  "kernelspec": {
   "display_name": "OCaml 4.05.0",
   "language": "OCaml",
   "name": "ocaml-jupyter"
  },
  "language_info": {
   "codemirror_mode": "text/x-ocaml",
   "file_extension": ".ml",
   "mimetype": "text/x-ocaml",
   "name": "OCaml",
   "nbconverter_exporter": null,
   "pygments_lexer": "OCaml",
   "version": "4.05.0"
  }
 },
 "nbformat": 4,
 "nbformat_minor": 2
}
