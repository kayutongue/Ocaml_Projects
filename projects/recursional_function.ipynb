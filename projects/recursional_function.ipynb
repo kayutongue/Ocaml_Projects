{
 "cells": [
  {
   "cell_type": "markdown",
   "metadata": {},
   "source": [
    "# 再帰関数に対するデザインレシピ決定版\n",
    "## 1. データ定義\n",
    "### 入力データの型、出力データの型を考える\n",
    "①一般的なデータ型　→　int, float, string, bool\n",
    "\n",
    "②構造を持つデータ型(定義済み)　→　組（一般的なデータ型 \\* 一般的なデータ型 \\* ...）の形で表せるデータ型\n",
    "\n",
    "③構造を持つデータ型（未定義）　→　他のデータ型に埋め込まず、必ず意味のある塊に対して一つの型を新しく定義する。（例, レコード)\n",
    "\n",
    "④再帰的なデータ型　→　どこに再帰が含まれるかを確認する。また、自己参照しないケースがあることも確認する。（例, リスト）"
   ]
  },
  {
   "cell_type": "code",
   "execution_count": 38,
   "metadata": {},
   "outputs": [],
   "source": [
    "(* int list は\n",
    "  - []             空リスト（自己参照しないケース）、あるいは\n",
    "  - first :: rest  最初の要素がfirst、残りのリストがrest（restが自己参照のケース）\n",
    "という形のデータ型 *)"
   ]
  },
  {
   "cell_type": "markdown",
   "metadata": {},
   "source": [
    "## 2. 目的\n",
    "関数が何をするためのものなのか、その「目的」を考える。\n",
    "\n",
    "何を受け取り（入力データの型）、何を返す（出力データの型）のかを考え、「関数の型」を決定する\n",
    "\n",
    "「目的」「関数の型」をヘッダ情報として書き、関数の出だしも書く。"
   ]
  },
  {
   "cell_type": "code",
   "execution_count": 39,
   "metadata": {},
   "outputs": [
    {
     "data": {
      "text/plain": [
       "val sum : 'a -> int = <fun>\n"
      ]
     },
     "execution_count": 39,
     "metadata": {},
     "output_type": "execute_result"
    }
   ],
   "source": [
    "(* 目的: 受け取ったリスト lst の各要素の和を求める *)\n",
    "(* sum : int list -> int *)\n",
    "let sum lst = 0"
   ]
  },
  {
   "cell_type": "markdown",
   "metadata": {},
   "source": [
    "## 3. 入出力例とテストプログラム\n",
    "関数の動きを明確にするため、具体的な値で入出力の例をいくつか作成する。\n",
    "#### A. 条件分岐を含む関数の場合\n",
    "\n",
    "→　全てのCaseについて例を作成する（exhaustive）。ある場合と別の場合との境界に当たる例も必ず作成する。\n",
    "#### B. 再帰的なデータの場合\n",
    "\n",
    "→　全ての場合の例を含める。特に簡単に答えが出るケースと再帰によるケースの両方の例を必ず含める。\n",
    "\n",
    "### 例を元に、実行可能なテストプログラムを作成する。テスト駆動！！"
   ]
  },
  {
   "cell_type": "code",
   "execution_count": 64,
   "metadata": {},
   "outputs": [
    {
     "data": {
      "text/plain": [
       "val test1 : bool = true\n"
      ]
     },
     "execution_count": 64,
     "metadata": {},
     "output_type": "execute_result"
    },
    {
     "data": {
      "text/plain": [
       "val test2 : bool = false\n"
      ]
     },
     "execution_count": 64,
     "metadata": {},
     "output_type": "execute_result"
    },
    {
     "data": {
      "text/plain": [
       "val test3 : bool = false\n"
      ]
     },
     "execution_count": 64,
     "metadata": {},
     "output_type": "execute_result"
    },
    {
     "data": {
      "text/plain": [
       "val test4 : bool = false\n"
      ]
     },
     "execution_count": 64,
     "metadata": {},
     "output_type": "execute_result"
    }
   ],
   "source": [
    "(* テスト *)\n",
    "let test1 = sum [] = 0\n",
    "let test2 = sum [2] = 2\n",
    "let test3 = sum [1; 3] = 4\n",
    "let test4 = sum [1; 2; 3; 4; 5; 6; 7; 8; 9; 10] = 55"
   ]
  },
  {
   "cell_type": "markdown",
   "metadata": {},
   "source": [
    "## 4. テンプレート（骨組み）\n",
    "入力が構造化データや再帰的なデータの場合は、その構造に応じたパターンマッチの構文(match with 文)を作成する。\n",
    "\n",
    "条件分岐が明らかな場合は、場合分けの条件を特定して必要なif文を作成する\n",
    "### テンプレートの作成は、入力データの型さえわかれば機械的にできるのがミソ\n",
    "### 言い換えれば、入力データの型が決まるとプログラムの形の大枠は自然に定まる！！\n",
    "どのような「パターン変数」が使えるか、どのパターン変数に対して「再帰呼び出し」を行えるかをチェックする"
   ]
  },
  {
   "cell_type": "code",
   "execution_count": 49,
   "metadata": {},
   "outputs": [
    {
     "data": {
      "text/plain": [
       "val sum : 'a list -> int = <fun>\n"
      ]
     },
     "execution_count": 49,
     "metadata": {},
     "output_type": "execute_result"
    }
   ],
   "source": [
    "(* 目的: 受け取ったリスト lst の各要素の和を求める *)\n",
    "(* sum : int list -> int *)\n",
    "let sum lst = match lst with\n",
    "  [] -> 0\n",
    "  | first :: rest -> 0 (* sum rest *)\n",
    "                       (* first と rest がパターン変数として使える。*)\n",
    "                       (* その内restは、int list型のデータが自己参照している部分に対応しているため、再帰呼び出しができる。*)"
   ]
  },
  {
   "cell_type": "markdown",
   "metadata": {},
   "source": [
    "テンプレートまで作成できたら、今一度テストプログラムが動くかを確認しておく"
   ]
  },
  {
   "cell_type": "code",
   "execution_count": 65,
   "metadata": {},
   "outputs": [
    {
     "data": {
      "text/plain": [
       "val test1 : bool = true\n"
      ]
     },
     "execution_count": 65,
     "metadata": {},
     "output_type": "execute_result"
    },
    {
     "data": {
      "text/plain": [
       "val test2 : bool = false\n"
      ]
     },
     "execution_count": 65,
     "metadata": {},
     "output_type": "execute_result"
    },
    {
     "data": {
      "text/plain": [
       "val test3 : bool = false\n"
      ]
     },
     "execution_count": 65,
     "metadata": {},
     "output_type": "execute_result"
    },
    {
     "data": {
      "text/plain": [
       "val test4 : bool = false\n"
      ]
     },
     "execution_count": 65,
     "metadata": {},
     "output_type": "execute_result"
    }
   ],
   "source": [
    "(* テスト *)\n",
    "let test1 = sum [] = 0\n",
    "let test2 = sum [2] = 2\n",
    "let test3 = sum [1; 3] = 4\n",
    "let test4 = sum [1; 2; 3; 4; 5; 6; 7; 8; 9; 10] = 55"
   ]
  },
  {
   "cell_type": "markdown",
   "metadata": {},
   "source": [
    "## 5. 本体（肉付け）\n",
    "関数の本体を実装します。\n",
    "\n",
    "①場合分けがある場合　→　簡単なCaseから一つ一つ順に実装し、STEP6のテストに通るかを確かめます。\n",
    "\n",
    "②再帰関数の場合　→　再帰呼び出しの意味するところを「関数の目的」を使って理解する。let の後に rec を挿入する。(recursionの略)"
   ]
  },
  {
   "cell_type": "code",
   "execution_count": 66,
   "metadata": {},
   "outputs": [
    {
     "data": {
      "text/plain": [
       "val sum : int list -> int = <fun>\n"
      ]
     },
     "execution_count": 66,
     "metadata": {},
     "output_type": "execute_result"
    }
   ],
   "source": [
    "(* 目的: 受け取ったリスト lst の各要素の和を求める *)\n",
    "(* sum : int list -> int *)\n",
    "let rec sum lst = match lst with\n",
    "  [] -> 0\n",
    "  | first :: rest -> first + sum rest (* ← restの各要素の和を返す *)"
   ]
  },
  {
   "cell_type": "markdown",
   "metadata": {},
   "source": [
    "## 6. テスト\n",
    "STEP3で作成したテストプログラムを使って、望む動作をしているか確認する。\n",
    "\n",
    "テストに通らなかった場合は、原因をデザインレシピに沿って考え、誤りを訂正する。必ずどこかのステップに誤りがある！"
   ]
  },
  {
   "cell_type": "code",
   "execution_count": 68,
   "metadata": {},
   "outputs": [
    {
     "data": {
      "text/plain": [
       "val test1 : bool = true\n"
      ]
     },
     "execution_count": 68,
     "metadata": {},
     "output_type": "execute_result"
    },
    {
     "data": {
      "text/plain": [
       "val test2 : bool = true\n"
      ]
     },
     "execution_count": 68,
     "metadata": {},
     "output_type": "execute_result"
    },
    {
     "data": {
      "text/plain": [
       "val test3 : bool = true\n"
      ]
     },
     "execution_count": 68,
     "metadata": {},
     "output_type": "execute_result"
    },
    {
     "data": {
      "text/plain": [
       "val test4 : bool = true\n"
      ]
     },
     "execution_count": 68,
     "metadata": {},
     "output_type": "execute_result"
    }
   ],
   "source": [
    "(* テスト *)\n",
    "let test1 = sum [] = 0\n",
    "let test2 = sum [2] = 2\n",
    "let test3 = sum [1; 3] = 4\n",
    "let test4 = sum [1; 2; 3; 4; 5; 6; 7; 8; 9; 10] = 55"
   ]
  }
 ],
 "metadata": {
  "kernelspec": {
   "display_name": "OCaml 4.05.0",
   "language": "OCaml",
   "name": "ocaml-jupyter"
  },
  "language_info": {
   "codemirror_mode": "text/x-ocaml",
   "file_extension": ".ml",
   "mimetype": "text/x-ocaml",
   "name": "OCaml",
   "nbconverter_exporter": null,
   "pygments_lexer": "OCaml",
   "version": "4.05.0"
  }
 },
 "nbformat": 4,
 "nbformat_minor": 2
}
