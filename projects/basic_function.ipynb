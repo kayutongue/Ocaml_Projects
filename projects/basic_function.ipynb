{
 "cells": [
  {
   "cell_type": "markdown",
   "metadata": {},
   "source": [
    "## 条件分岐のデザインレシピ\n",
    "\n",
    "### 1.  全ての場合分けと、各場合の例をあげる。テストプログラムを書く　「全体の俯瞰」\n",
    "\n",
    "### 2. 条件式(if)を書き、テストプログラムが動くかを確認する。\n",
    "（この時点ではfalseで構わない。分岐後の式には適当な値を入れておく）\n",
    "\n",
    "### 3. 各場合の式を実装する。\n",
    "一つの場合について式を実装したら、必ずテストプログラムに通る(true)かどうかを確認してから次の場合へ進む"
   ]
  },
  {
   "cell_type": "code",
   "execution_count": 25,
   "metadata": {},
   "outputs": [
    {
     "data": {
      "text/plain": [
       "val hanbetsushiki : float -> float -> float -> float = <fun>\n"
      ]
     },
     "execution_count": 25,
     "metadata": {},
     "output_type": "execute_result"
    },
    {
     "data": {
      "text/plain": [
       "val test1 : bool = true\n"
      ]
     },
     "execution_count": 25,
     "metadata": {},
     "output_type": "execute_result"
    },
    {
     "data": {
      "text/plain": [
       "val test2 : bool = true\n"
      ]
     },
     "execution_count": 25,
     "metadata": {},
     "output_type": "execute_result"
    },
    {
     "data": {
      "text/plain": [
       "val test3 : bool = true\n"
      ]
     },
     "execution_count": 25,
     "metadata": {},
     "output_type": "execute_result"
    }
   ],
   "source": [
    "(* 目的: ax^2+bx+c=0の係数a,b,cがを与えられたら、判別式の値を返す *)\n",
    "(* hanbetsushiki : float -> float -> float -> float *)\n",
    "let hanbetsushiki a b c = b ** 2.0 -. 4.0 *. a *. c\n",
    "\n",
    "(* テスト *)\n",
    "let test1 = hanbetsushiki 1. 2. 3. = (-8.)\n",
    "let test2 = hanbetsushiki 3. 6. 3. = 0.\n",
    "let test3 = hanbetsushiki 1. 5. 2. = 17."
   ]
  },
  {
   "cell_type": "code",
   "execution_count": 29,
   "metadata": {},
   "outputs": [
    {
     "data": {
      "text/plain": [
       "val kai_no_kosuu : float -> float -> float -> string = <fun>\n"
      ]
     },
     "execution_count": 29,
     "metadata": {},
     "output_type": "execute_result"
    },
    {
     "data": {
      "text/plain": [
       "val test1 : bool = true\n"
      ]
     },
     "execution_count": 29,
     "metadata": {},
     "output_type": "execute_result"
    },
    {
     "data": {
      "text/plain": [
       "val test2 : bool = true\n"
      ]
     },
     "execution_count": 29,
     "metadata": {},
     "output_type": "execute_result"
    },
    {
     "data": {
      "text/plain": [
       "val test3 : bool = true\n"
      ]
     },
     "execution_count": 29,
     "metadata": {},
     "output_type": "execute_result"
    }
   ],
   "source": [
    "(* 目的: ax^2+bx+c=0の係数a,b,cを与えられたら、解の個数を返す *)\n",
    "(* kai_no_kosuu : float -> float -> float -> string *)\n",
    "let kai_no_kosuu a b c =\n",
    "(* 分岐: hanbetsushikiの結果が負の数なら\"解無し\", 0なら\"1個\", 正の数なら\"2個\" *)\n",
    "  if (hanbetsushiki a b c) < 0. then \"解無し\"\n",
    "                        else if (hanbetsushiki a b c) = 0. then \"１個\"\n",
    "                                                          else \"２個\"\n",
    "\n",
    "(* テスト *)\n",
    "let test1 = kai_no_kosuu 1. 2. 3. = \"解無し\"\n",
    "let test2 = kai_no_kosuu 3. 6. 3. = \"１個\"\n",
    "let test3 = kai_no_kosuu 1. 5. 2. = \"２個\""
   ]
  },
  {
   "cell_type": "code",
   "execution_count": 36,
   "metadata": {},
   "outputs": [
    {
     "data": {
      "text/plain": [
       "val kyosuukai : float -> float -> float -> bool = <fun>\n"
      ]
     },
     "execution_count": 36,
     "metadata": {},
     "output_type": "execute_result"
    },
    {
     "data": {
      "text/plain": [
       "val test1 : bool = true\n"
      ]
     },
     "execution_count": 36,
     "metadata": {},
     "output_type": "execute_result"
    },
    {
     "data": {
      "text/plain": [
       "val test2 : bool = true\n"
      ]
     },
     "execution_count": 36,
     "metadata": {},
     "output_type": "execute_result"
    },
    {
     "data": {
      "text/plain": [
       "val test3 : bool = true\n"
      ]
     },
     "execution_count": 36,
     "metadata": {},
     "output_type": "execute_result"
    }
   ],
   "source": [
    "(* 目的: ax^2+bx+c=0の係数a,b,cを与えられたら、2次方程式が虚数解を持つかどうかを判定する *)\n",
    "(* kyosuukai : float -> float -> float -> bool *)\n",
    "let kyosuukai a b c =\n",
    "  (b ** 2. -. 4. *. a *. c) < 0.\n",
    "\n",
    "(* テスト *)\n",
    "let test1 = kyosuukai 1. 2. 3. = true\n",
    "let test2 = kyosuukai 3. 6. 3. = false\n",
    "let test3 = kyosuukai 1. 5. 2. = false"
   ]
  },
  {
   "cell_type": "code",
   "execution_count": 43,
   "metadata": {},
   "outputs": [
    {
     "data": {
      "text/plain": [
       "val bmi : float -> float -> int = <fun>\n"
      ]
     },
     "execution_count": 43,
     "metadata": {},
     "output_type": "execute_result"
    },
    {
     "data": {
      "text/plain": [
       "val test1 : bool = true\n"
      ]
     },
     "execution_count": 43,
     "metadata": {},
     "output_type": "execute_result"
    },
    {
     "data": {
      "text/plain": [
       "val test2 : bool = true\n"
      ]
     },
     "execution_count": 43,
     "metadata": {},
     "output_type": "execute_result"
    },
    {
     "data": {
      "text/plain": [
       "val test3 : bool = true\n"
      ]
     },
     "execution_count": 43,
     "metadata": {},
     "output_type": "execute_result"
    },
    {
     "data": {
      "text/plain": [
       "val test4 : bool = true\n"
      ]
     },
     "execution_count": 43,
     "metadata": {},
     "output_type": "execute_result"
    }
   ],
   "source": [
    "(* 目的: 身長mと体重kを受け取り、BMI指数を計算する *)\n",
    "(* bmi: float -> float -> int *)\n",
    "let bmi m k =\n",
    "(* bmi = 体重k / 身長m ** 2.0 *)\n",
    "int_of_float (k /. (m ** 2.0))\n",
    "\n",
    "(* テスト *)\n",
    "let test1 = bmi 1.7 62. = 21\n",
    "let test2 = bmi 1.7 80. = 27\n",
    "let test3 = bmi 1.7 100. = 34\n",
    "let test4 = bmi 1.7 40. = 13"
   ]
  },
  {
   "cell_type": "code",
   "execution_count": 48,
   "metadata": {},
   "outputs": [
    {
     "data": {
      "text/plain": [
       "val taikei : float -> float -> string = <fun>\n"
      ]
     },
     "execution_count": 48,
     "metadata": {},
     "output_type": "execute_result"
    },
    {
     "data": {
      "text/plain": [
       "val test1 : bool = true\n"
      ]
     },
     "execution_count": 48,
     "metadata": {},
     "output_type": "execute_result"
    },
    {
     "data": {
      "text/plain": [
       "val test2 : bool = true\n"
      ]
     },
     "execution_count": 48,
     "metadata": {},
     "output_type": "execute_result"
    },
    {
     "data": {
      "text/plain": [
       "val test3 : bool = true\n"
      ]
     },
     "execution_count": 48,
     "metadata": {},
     "output_type": "execute_result"
    },
    {
     "data": {
      "text/plain": [
       "val test4 : bool = true\n"
      ]
     },
     "execution_count": 48,
     "metadata": {},
     "output_type": "execute_result"
    }
   ],
   "source": [
    "(* 目的: 身長mと体重kを受け取り、算出したBMI指数から体型を出力する *)\n",
    "(* taikei : float -> float -> string *)\n",
    "let taikei m k =\n",
    "(* 分岐: 18.5未満＝痩せ、18.5以上25未満＝標準、25以上30未満＝肥満、30以上＝高度肥満 *)\n",
    "  if (bmi m k) < 18 then \"痩せ\"\n",
    "                    else if (bmi m k) < 25 then \"標準\"\n",
    "                                            else if (bmi m k) < 30 then \"肥満\"\n",
    "                                                                    else \"高度肥満\"\n",
    "\n",
    "(* テスト *)\n",
    "let test1 = taikei 1.7 62. = \"標準\"\n",
    "let test2 = taikei 1.7 80. = \"肥満\"\n",
    "let test3 = taikei 1.7 100. = \"高度肥満\"\n",
    "let test4 = taikei 1.7 40. = \"痩せ\""
   ]
  }
 ],
 "metadata": {
  "kernelspec": {
   "display_name": "OCaml 4.05.0",
   "language": "OCaml",
   "name": "ocaml-jupyter"
  },
  "language_info": {
   "codemirror_mode": "text/x-ocaml",
   "file_extension": ".ml",
   "mimetype": "text/x-ocaml",
   "name": "OCaml",
   "nbconverter_exporter": null,
   "pygments_lexer": "OCaml",
   "version": "4.05.0"
  }
 },
 "nbformat": 4,
 "nbformat_minor": 2
}
