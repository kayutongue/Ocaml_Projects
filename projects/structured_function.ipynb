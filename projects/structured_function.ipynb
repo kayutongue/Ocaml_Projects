{
 "cells": [
  {
   "cell_type": "markdown",
   "metadata": {},
   "source": [
    "## 構造データを扱う関数定義のデザインレシピ\n",
    "### 1. 目的\n",
    "関数の目的と、関数の型、関数の枠組みをヘッダ情報として書きます"
   ]
  },
  {
   "cell_type": "code",
   "execution_count": 29,
   "metadata": {},
   "outputs": [
    {
     "data": {
      "text/plain": [
       "val add : 'a -> int = <fun>\n"
      ]
     },
     "execution_count": 29,
     "metadata": {},
     "output_type": "execute_result"
    }
   ],
   "source": [
    "(* 目的: 二つの整数の組pairを受け取り、その要素の和を返す *)\n",
    "(* add : int * int -> int *)\n",
    "let add pair = 0"
   ]
  },
  {
   "cell_type": "markdown",
   "metadata": {},
   "source": [
    "### 2. 例\n",
    "関数の入出力の例を幾つか挙げ、それらについてテストプログラムを書きます"
   ]
  },
  {
   "cell_type": "code",
   "execution_count": 28,
   "metadata": {},
   "outputs": [
    {
     "data": {
      "text/plain": [
       "val test1 : bool = true\n"
      ]
     },
     "execution_count": 28,
     "metadata": {},
     "output_type": "execute_result"
    },
    {
     "data": {
      "text/plain": [
       "val test2 : bool = false\n"
      ]
     },
     "execution_count": 28,
     "metadata": {},
     "output_type": "execute_result"
    },
    {
     "data": {
      "text/plain": [
       "val test3 : bool = false\n"
      ]
     },
     "execution_count": 28,
     "metadata": {},
     "output_type": "execute_result"
    }
   ],
   "source": [
    "(* テスト *)\n",
    "let test1 = add (0, 0) = 0\n",
    "let test2 = add (3, 5) = 8\n",
    "let test3 = add (3, -5) = -2"
   ]
  },
  {
   "cell_type": "markdown",
   "metadata": {},
   "source": [
    "### 3. テンプレート\n",
    "ステップ１で関数内で入出力されるデータの型が決まったら、そこから想定されるプログラムの雛形を書きます。"
   ]
  },
  {
   "cell_type": "code",
   "execution_count": 33,
   "metadata": {},
   "outputs": [
    {
     "data": {
      "text/plain": [
       "val add : 'a * 'b -> int = <fun>\n"
      ]
     },
     "execution_count": 33,
     "metadata": {},
     "output_type": "execute_result"
    },
    {
     "data": {
      "text/plain": [
       "val test1 : bool = true\n"
      ]
     },
     "execution_count": 33,
     "metadata": {},
     "output_type": "execute_result"
    },
    {
     "data": {
      "text/plain": [
       "val test2 : bool = false\n"
      ]
     },
     "execution_count": 33,
     "metadata": {},
     "output_type": "execute_result"
    },
    {
     "data": {
      "text/plain": [
       "val test3 : bool = false\n"
      ]
     },
     "execution_count": 33,
     "metadata": {},
     "output_type": "execute_result"
    }
   ],
   "source": [
    "(* 目的: 二つの整数の組pairを受け取り、その要素の和を返す *)\n",
    "(* add : int * int -> int *)\n",
    "let add pair = match pair with\n",
    "  (a, b) -> 0\n",
    "  \n",
    "(* テスト *)\n",
    "let test1 = add (0, 0) = 0\n",
    "let test2 = add (3, 5) = 8\n",
    "let test3 = add (3, -5) = -2"
   ]
  },
  {
   "cell_type": "markdown",
   "metadata": {},
   "source": [
    "### 4. 本体（出力）の実装とテスト\n",
    "関数の出力となる本体の式を実装します。そして、テストに通るかを確認します。"
   ]
  },
  {
   "cell_type": "code",
   "execution_count": 34,
   "metadata": {},
   "outputs": [
    {
     "data": {
      "text/plain": [
       "val add : int * int -> int = <fun>\n"
      ]
     },
     "execution_count": 34,
     "metadata": {},
     "output_type": "execute_result"
    },
    {
     "data": {
      "text/plain": [
       "val test1 : bool = true\n"
      ]
     },
     "execution_count": 34,
     "metadata": {},
     "output_type": "execute_result"
    },
    {
     "data": {
      "text/plain": [
       "val test2 : bool = true\n"
      ]
     },
     "execution_count": 34,
     "metadata": {},
     "output_type": "execute_result"
    },
    {
     "data": {
      "text/plain": [
       "val test3 : bool = true\n"
      ]
     },
     "execution_count": 34,
     "metadata": {},
     "output_type": "execute_result"
    }
   ],
   "source": [
    "(* 目的: 二つの整数の組pairを受け取り、その要素の和を返す *)\n",
    "(* add : int * int -> int *)\n",
    "let add pair = match pair with\n",
    "  (a, b) -> a + b\n",
    "  \n",
    "(* テスト *)\n",
    "let test1 = add (0, 0) = 0\n",
    "let test2 = add (3, 5) = 8\n",
    "let test3 = add (3, -5) = -2"
   ]
  },
  {
   "cell_type": "code",
   "execution_count": 41,
   "metadata": {},
   "outputs": [
    {
     "data": {
      "text/plain": [
       "val taisho_x : 'a * int -> 'a * int = <fun>\n"
      ]
     },
     "execution_count": 41,
     "metadata": {},
     "output_type": "execute_result"
    },
    {
     "data": {
      "text/plain": [
       "val test1 : bool = true\n"
      ]
     },
     "execution_count": 41,
     "metadata": {},
     "output_type": "execute_result"
    },
    {
     "data": {
      "text/plain": [
       "val test2 : bool = true\n"
      ]
     },
     "execution_count": 41,
     "metadata": {},
     "output_type": "execute_result"
    },
    {
     "data": {
      "text/plain": [
       "val test3 : bool = true\n"
      ]
     },
     "execution_count": 41,
     "metadata": {},
     "output_type": "execute_result"
    },
    {
     "data": {
      "text/plain": [
       "val test4 : bool = true\n"
      ]
     },
     "execution_count": 41,
     "metadata": {},
     "output_type": "execute_result"
    }
   ],
   "source": [
    "(* 目的: (x, y)平面座標を受け取ったら、x軸について対称な点の座標を返す *)\n",
    "(* taisho_x : int * int -> int * int *)\n",
    "let taisho_x pair = match pair with\n",
    "  (a, b) -> (a, -b)\n",
    "\n",
    "(* テスト *)\n",
    "let test1 = taisho_x (4, 5) = (4, -5)\n",
    "let test2 = taisho_x (0, -10) = (0, 10)\n",
    "let test3 = taisho_x (-4, 12) = (-4, -12)\n",
    "let test4 = taisho_x (0, 0) = (0, 0)"
   ]
  }
 ],
 "metadata": {
  "kernelspec": {
   "display_name": "OCaml 4.05.0",
   "language": "OCaml",
   "name": "ocaml-jupyter"
  },
  "language_info": {
   "codemirror_mode": "text/x-ocaml",
   "file_extension": ".ml",
   "mimetype": "text/x-ocaml",
   "name": "OCaml",
   "nbconverter_exporter": null,
   "pygments_lexer": "OCaml",
   "version": "4.05.0"
  }
 },
 "nbformat": 4,
 "nbformat_minor": 2
}
