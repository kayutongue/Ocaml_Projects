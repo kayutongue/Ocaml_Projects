{
 "cells": [
  {
   "cell_type": "markdown",
   "metadata": {},
   "source": [
    "データ定義"
   ]
  },
  {
   "cell_type": "code",
   "execution_count": 4,
   "metadata": {},
   "outputs": [
    {
     "data": {
      "text/plain": [
       "type gakusei_t = { namae : string; tensuu : int; seiseki : string; }\n"
      ]
     },
     "execution_count": 4,
     "metadata": {},
     "output_type": "execute_result"
    },
    {
     "data": {
      "text/plain": [
       "val lst1 : 'a list = []\n"
      ]
     },
     "execution_count": 4,
     "metadata": {},
     "output_type": "execute_result"
    },
    {
     "data": {
      "text/plain": [
       "val lst2 : gakusei_t list = [{namae = \"asai\"; tensuu = 70; seiseki = \"B\"}]\n"
      ]
     },
     "execution_count": 4,
     "metadata": {},
     "output_type": "execute_result"
    },
    {
     "data": {
      "text/plain": [
       "val lst3 : gakusei_t list =\n",
       "  [{namae = \"asai\"; tensuu = 70; seiseki = \"B\"};\n",
       "   {namae = \"kaneko\"; tensuu = 85; seiseki = \"A\"}]\n"
      ]
     },
     "execution_count": 4,
     "metadata": {},
     "output_type": "execute_result"
    },
    {
     "data": {
      "text/plain": [
       "val lst4 : gakusei_t list =\n",
       "  [{namae = \"asai\"; tensuu = 70; seiseki = \"B\"};\n",
       "   {namae = \"kaneko\"; tensuu = 85; seiseki = \"A\"};\n",
       "   {namae = \"yoshida\"; tensuu = 80; seiseki = \"A\"}]\n"
      ]
     },
     "execution_count": 4,
     "metadata": {},
     "output_type": "execute_result"
    }
   ],
   "source": [
    "(* 学生一人分のデータ（名前, 点数, 成績）を表す型 *)\n",
    "type gakusei_t = {\n",
    "  namae : string;     (* 名前 *)\n",
    "  tensuu : int;       (* 点数 *)\n",
    "  seiseki : string;   (* 成績 *)\n",
    "}\n",
    "\n",
    "(* gakusei_t list は\n",
    "  - []             空リスト、あるいは\n",
    "  - first :: rest  最初の要素がfirst, 残りのリストがrest\n",
    "                   (firstがgakusei_t型, restが自己参照のケース)\n",
    "という形のデータ *)\n",
    "\n",
    "(* gakusei_t list 型のデータの例 *)\n",
    "let lst1 = []\n",
    "let lst2 = [{namae = \"asai\"; tensuu = 70; seiseki = \"B\"}]\n",
    "let lst3 = [{namae = \"asai\"; tensuu = 70; seiseki = \"B\"};\n",
    "            {namae = \"kaneko\"; tensuu = 85; seiseki = \"A\"}]\n",
    "let lst4 = [{namae = \"asai\"; tensuu = 70; seiseki = \"B\"};\n",
    "            {namae = \"kaneko\"; tensuu = 85; seiseki = \"A\"};\n",
    "            {namae = \"yoshida\"; tensuu = 80; seiseki = \"A\"}]"
   ]
  },
  {
   "cell_type": "markdown",
   "metadata": {},
   "source": [
    "目的\n",
    "\n",
    "例とテストプログラム"
   ]
  },
  {
   "cell_type": "code",
   "execution_count": 18,
   "metadata": {},
   "outputs": [
    {
     "data": {
      "text/plain": [
       "val count_A : gakusei_t list -> int = <fun>\n"
      ]
     },
     "execution_count": 18,
     "metadata": {},
     "output_type": "execute_result"
    },
    {
     "data": {
      "text/plain": [
       "val test1 : bool = true\n"
      ]
     },
     "execution_count": 18,
     "metadata": {},
     "output_type": "execute_result"
    },
    {
     "data": {
      "text/plain": [
       "val test2 : bool = true\n"
      ]
     },
     "execution_count": 18,
     "metadata": {},
     "output_type": "execute_result"
    },
    {
     "data": {
      "text/plain": [
       "val test3 : bool = true\n"
      ]
     },
     "execution_count": 18,
     "metadata": {},
     "output_type": "execute_result"
    },
    {
     "data": {
      "text/plain": [
       "val test4 : bool = true\n"
      ]
     },
     "execution_count": 18,
     "metadata": {},
     "output_type": "execute_result"
    }
   ],
   "source": [
    "(* 目的: 学生リストlstのうち成績がAの人の数を返す *)\n",
    "(* count_A : gakusei_t list -> int *)\n",
    "let rec count_A lst = match lst with\n",
    "    [] -> 0\n",
    "  | {namae = n; tensuu = t; seiseki = s} :: rest\n",
    "    -> if s = \"A\" then 1 + count_A rest (* 再帰呼び出し可能な形 count_A rest *)\n",
    "                  else count_A rest\n",
    "\n",
    "(* テスト *)\n",
    "let test1 = count_A lst1 = 0\n",
    "let test2 = count_A lst2 = 0\n",
    "let test3 = count_A lst3 = 1\n",
    "let test4 = count_A lst4 = 2"
   ]
  },
  {
   "cell_type": "markdown",
   "metadata": {},
   "source": [
    "## 問１"
   ]
  },
  {
   "cell_type": "markdown",
   "metadata": {},
   "source": [
    "データ定義"
   ]
  },
  {
   "cell_type": "code",
   "execution_count": 31,
   "metadata": {},
   "outputs": [
    {
     "data": {
      "text/plain": [
       "type person_t = {\n",
       "  namae : string;\n",
       "  tall : float;\n",
       "  weight : float;\n",
       "  birthday : int;\n",
       "  blood : string;\n",
       "  seiza : string;\n",
       "}\n"
      ]
     },
     "execution_count": 31,
     "metadata": {},
     "output_type": "execute_result"
    },
    {
     "data": {
      "text/plain": [
       "val lst0 : 'a list = []\n"
      ]
     },
     "execution_count": 31,
     "metadata": {},
     "output_type": "execute_result"
    },
    {
     "data": {
      "text/plain": [
       "val lst1 : person_t list =\n",
       "  [{namae = \"粥川\"; tall = 1.76; weight = 77.6; birthday = 1113;\n",
       "    blood = \"B\"; seiza = \"乙女座\"}]\n"
      ]
     },
     "execution_count": 31,
     "metadata": {},
     "output_type": "execute_result"
    },
    {
     "data": {
      "text/plain": [
       "val lst3 : person_t list =\n",
       "  [{namae = \"粥川\"; tall = 1.76; weight = 77.6; birthday = 1113;\n",
       "    blood = \"B\"; seiza = \"乙女座\"};\n",
       "   {namae = \"坂庭\"; tall = 1.85; weight = 84.; birthday = 1225;\n",
       "    blood = \"A\"; seiza = \"獅子座\"}]\n"
      ]
     },
     "execution_count": 31,
     "metadata": {},
     "output_type": "execute_result"
    },
    {
     "data": {
      "text/plain": [
       "val lst4 : person_t list =\n",
       "  [{namae = \"粥川\"; tall = 1.76; weight = 77.6; birthday = 1113;\n",
       "    blood = \"B\"; seiza = \"乙女座\"};\n",
       "   {namae = \"坂庭\"; tall = 1.85; weight = 84.; birthday = 1225;\n",
       "    blood = \"A\"; seiza = \"獅子座\"};\n",
       "   {namae = \"西尾\"; tall = 1.56; weight = 45.9; birthday = 921;\n",
       "    blood = \"A\"; seiza = \"乙女座\"}]\n"
      ]
     },
     "execution_count": 31,
     "metadata": {},
     "output_type": "execute_result"
    }
   ],
   "source": [
    "(* パーソナルデータ（身長, 体重, 誕生日, 血液型）を格納するデータ型 *)\n",
    "type person_t = {\n",
    "  namae : string;     (* 名前 *)\n",
    "  tall : float;       (* 身長(m) *)\n",
    "  weight : float;     (* 体重(kg) *)\n",
    "  birthday : int;     (* 誕生日(月日) *)\n",
    "  blood : string;     (* 血液型 *)\n",
    "  seiza : string;     (* 星座 *)\n",
    "}\n",
    "\n",
    "(* person_t list は\n",
    "  - []                空リスト、あるいは\n",
    "  - first :: rest     最初の要素がfirst, 残りのリストがrest\n",
    "                      (firstはperson_t型、restは自己参照しているケース)\n",
    "という形のデータ型 *)\n",
    "\n",
    "(* person_t list型のサンプル *)\n",
    "let lst0 = []\n",
    "let lst1 = [{namae = \"粥川\"; tall = 1.76; weight = 77.6; birthday = 1113; blood = \"B\"; seiza = \"乙女座\"}]\n",
    "let lst3 = [{namae = \"粥川\"; tall = 1.76; weight = 77.6; birthday = 1113; blood = \"B\"; seiza = \"乙女座\"};\n",
    "            {namae = \"坂庭\"; tall = 1.85; weight = 84.0; birthday = 1225; blood = \"A\"; seiza = \"獅子座\"}]\n",
    "let lst4 = [{namae = \"粥川\"; tall = 1.76; weight = 77.6; birthday = 1113; blood = \"B\"; seiza = \"乙女座\"};\n",
    "            {namae = \"坂庭\"; tall = 1.85; weight = 84.0; birthday = 1225; blood = \"A\"; seiza = \"獅子座\"};\n",
    "            {namae = \"西尾\"; tall = 1.56; weight = 45.9; birthday = 0921; blood = \"A\"; seiza = \"乙女座\"}]"
   ]
  },
  {
   "cell_type": "code",
   "execution_count": 29,
   "metadata": {},
   "outputs": [
    {
     "data": {
      "text/plain": [
       "val count_ketsueki_A : person_t list -> int = <fun>\n"
      ]
     },
     "execution_count": 29,
     "metadata": {},
     "output_type": "execute_result"
    },
    {
     "data": {
      "text/plain": [
       "val test0 : bool = true\n"
      ]
     },
     "execution_count": 29,
     "metadata": {},
     "output_type": "execute_result"
    },
    {
     "data": {
      "text/plain": [
       "val test1 : bool = true\n"
      ]
     },
     "execution_count": 29,
     "metadata": {},
     "output_type": "execute_result"
    },
    {
     "data": {
      "text/plain": [
       "val test3 : bool = true\n"
      ]
     },
     "execution_count": 29,
     "metadata": {},
     "output_type": "execute_result"
    },
    {
     "data": {
      "text/plain": [
       "val test4 : bool = true\n"
      ]
     },
     "execution_count": 29,
     "metadata": {},
     "output_type": "execute_result"
    }
   ],
   "source": [
    "(* 目的: パーソナルデータのリストを受け取ったら、血液型がA型の人の数を返す *)\n",
    "(* count_ketsueki_A : person_t list -> int *)\n",
    "let rec count_ketsueki_A lst = match lst with\n",
    "    [] -> 0\n",
    "  | {tall = t; weight = w; birthday = b; blood = k} :: rest\n",
    "       -> if k = \"A\" then 1 + count_ketsueki_A rest (* count_ketsueki_A rest *)\n",
    "                     else count_ketsueki_A rest\n",
    "\n",
    "(* テスト *)\n",
    "let test0 = count_ketsueki_A lst0 = 0\n",
    "let test1 = count_ketsueki_A lst1 = 0\n",
    "let test3 = count_ketsueki_A lst3 = 1\n",
    "let test4 = count_ketsueki_A lst4 = 2"
   ]
  },
  {
   "cell_type": "code",
   "execution_count": 35,
   "metadata": {},
   "outputs": [
    {
     "data": {
      "text/plain": [
       "val otomeza : person_t list -> string list = <fun>\n"
      ]
     },
     "execution_count": 35,
     "metadata": {},
     "output_type": "execute_result"
    },
    {
     "data": {
      "text/plain": [
       "val test5 : bool = true\n"
      ]
     },
     "execution_count": 35,
     "metadata": {},
     "output_type": "execute_result"
    },
    {
     "data": {
      "text/plain": [
       "val test6 : bool = true\n"
      ]
     },
     "execution_count": 35,
     "metadata": {},
     "output_type": "execute_result"
    },
    {
     "data": {
      "text/plain": [
       "val test7 : bool = true\n"
      ]
     },
     "execution_count": 35,
     "metadata": {},
     "output_type": "execute_result"
    },
    {
     "data": {
      "text/plain": [
       "val test8 : bool = true\n"
      ]
     },
     "execution_count": 35,
     "metadata": {},
     "output_type": "execute_result"
    }
   ],
   "source": [
    "(* 目的: パーソナルデータのリストを受け取ったら、乙女座の人の名前のみからなるリストを返す *)\n",
    "(* otomeza : person_t list -> string list *)\n",
    "let rec otomeza lst = match lst with\n",
    "    [] -> []\n",
    "  | {namae = n; tall = t; weight = w; birthday = b; blood = k; seiza = s} :: rest\n",
    "       -> if s = \"乙女座\" then n :: otomeza rest (* otomeza rest *)\n",
    "                         else otomeza rest\n",
    "\n",
    "(* テスト *)\n",
    "let test5 = otomeza lst0 = []\n",
    "let test6 = otomeza lst1 = [\"粥川\"]\n",
    "let test7 = otomeza lst3 = [\"粥川\"]\n",
    "let test8 = otomeza lst4 = [\"粥川\"; \"西尾\"]"
   ]
  }
 ],
 "metadata": {
  "kernelspec": {
   "display_name": "OCaml 4.05.0",
   "language": "OCaml",
   "name": "ocaml-jupyter"
  },
  "language_info": {
   "codemirror_mode": "text/x-ocaml",
   "file_extension": ".ml",
   "mimetype": "text/x-ocaml",
   "name": "OCaml",
   "nbconverter_exporter": null,
   "pygments_lexer": "OCaml",
   "version": "4.05.0"
  }
 },
 "nbformat": 4,
 "nbformat_minor": 2
}
